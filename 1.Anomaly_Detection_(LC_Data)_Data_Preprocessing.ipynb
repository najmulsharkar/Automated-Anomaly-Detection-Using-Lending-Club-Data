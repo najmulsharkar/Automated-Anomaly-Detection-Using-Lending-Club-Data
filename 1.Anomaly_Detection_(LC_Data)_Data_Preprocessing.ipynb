{
 "cells": [
  {
   "cell_type": "code",
   "execution_count": 1,
   "metadata": {
    "id": "3S9PCWJTBNWa"
   },
   "outputs": [],
   "source": [
    "# Importing necessary libraries\n",
    "import numpy as np\n",
    "import pandas as pd\n",
    "import matplotlib.pyplot as plt\n",
    "import seaborn as sns\n",
    "import warnings\n",
    "warnings.filterwarnings(\"ignore\")\n",
    "from pandas.api.types import CategoricalDtype\n",
    "from sklearn.preprocessing import LabelEncoder"
   ]
  },
  {
   "cell_type": "code",
   "execution_count": 2,
   "metadata": {
    "colab": {
     "base_uri": "https://localhost:8080/"
    },
    "id": "BcAcJlLaCWcC",
    "outputId": "b4371566-5d7f-4fb3-d4bb-b22527c6a961"
   },
   "outputs": [],
   "source": [
    "# from google.colab import drive\n",
    "# drive.mount('/content/drive')"
   ]
  },
  {
   "cell_type": "code",
   "execution_count": 3,
   "metadata": {
    "id": "VvCxw2AHZJHK"
   },
   "outputs": [],
   "source": [
    "#Read the Dataset\n",
    "# path = \"/content/drive/MyDrive/Colab Notebooks/Lending Club Data/Loan_status_2007-2020Q3.gzip\"\n",
    "df = pd.read_csv(r'C:\\Users\\mehed\\Google Drive\\Colab Notebooks\\Lending Club Data\\Loan_status_2007-2020Q3.gzip')"
   ]
  },
  {
   "cell_type": "code",
   "execution_count": 4,
   "metadata": {
    "colab": {
     "base_uri": "https://localhost:8080/",
     "height": 403
    },
    "id": "ITYTKuk0KE7h",
    "outputId": "1f8892b4-bdf5-45d1-d98d-d9b14f4b39bd"
   },
   "outputs": [
    {
     "data": {
      "text/html": [
       "<div>\n",
       "<style scoped>\n",
       "    .dataframe tbody tr th:only-of-type {\n",
       "        vertical-align: middle;\n",
       "    }\n",
       "\n",
       "    .dataframe tbody tr th {\n",
       "        vertical-align: top;\n",
       "    }\n",
       "\n",
       "    .dataframe thead th {\n",
       "        text-align: right;\n",
       "    }\n",
       "</style>\n",
       "<table border=\"1\" class=\"dataframe\">\n",
       "  <thead>\n",
       "    <tr style=\"text-align: right;\">\n",
       "      <th></th>\n",
       "      <th>Unnamed: 0</th>\n",
       "      <th>id</th>\n",
       "      <th>loan_amnt</th>\n",
       "      <th>funded_amnt</th>\n",
       "      <th>funded_amnt_inv</th>\n",
       "      <th>term</th>\n",
       "      <th>int_rate</th>\n",
       "      <th>installment</th>\n",
       "      <th>grade</th>\n",
       "      <th>sub_grade</th>\n",
       "      <th>...</th>\n",
       "      <th>hardship_start_date</th>\n",
       "      <th>hardship_end_date</th>\n",
       "      <th>payment_plan_start_date</th>\n",
       "      <th>hardship_length</th>\n",
       "      <th>hardship_dpd</th>\n",
       "      <th>hardship_loan_status</th>\n",
       "      <th>orig_projected_additional_accrued_interest</th>\n",
       "      <th>hardship_payoff_balance_amount</th>\n",
       "      <th>hardship_last_payment_amount</th>\n",
       "      <th>debt_settlement_flag</th>\n",
       "    </tr>\n",
       "  </thead>\n",
       "  <tbody>\n",
       "    <tr>\n",
       "      <th>0</th>\n",
       "      <td>0</td>\n",
       "      <td>1077501</td>\n",
       "      <td>5000.0</td>\n",
       "      <td>5000.0</td>\n",
       "      <td>4975.0</td>\n",
       "      <td>36 months</td>\n",
       "      <td>10.65%</td>\n",
       "      <td>162.87</td>\n",
       "      <td>B</td>\n",
       "      <td>B2</td>\n",
       "      <td>...</td>\n",
       "      <td>NaN</td>\n",
       "      <td>NaN</td>\n",
       "      <td>NaN</td>\n",
       "      <td>NaN</td>\n",
       "      <td>NaN</td>\n",
       "      <td>NaN</td>\n",
       "      <td>NaN</td>\n",
       "      <td>NaN</td>\n",
       "      <td>NaN</td>\n",
       "      <td>N</td>\n",
       "    </tr>\n",
       "    <tr>\n",
       "      <th>1</th>\n",
       "      <td>1</td>\n",
       "      <td>1077430</td>\n",
       "      <td>2500.0</td>\n",
       "      <td>2500.0</td>\n",
       "      <td>2500.0</td>\n",
       "      <td>60 months</td>\n",
       "      <td>15.27%</td>\n",
       "      <td>59.83</td>\n",
       "      <td>C</td>\n",
       "      <td>C4</td>\n",
       "      <td>...</td>\n",
       "      <td>NaN</td>\n",
       "      <td>NaN</td>\n",
       "      <td>NaN</td>\n",
       "      <td>NaN</td>\n",
       "      <td>NaN</td>\n",
       "      <td>NaN</td>\n",
       "      <td>NaN</td>\n",
       "      <td>NaN</td>\n",
       "      <td>NaN</td>\n",
       "      <td>N</td>\n",
       "    </tr>\n",
       "    <tr>\n",
       "      <th>2</th>\n",
       "      <td>2</td>\n",
       "      <td>1077175</td>\n",
       "      <td>2400.0</td>\n",
       "      <td>2400.0</td>\n",
       "      <td>2400.0</td>\n",
       "      <td>36 months</td>\n",
       "      <td>15.96%</td>\n",
       "      <td>84.33</td>\n",
       "      <td>C</td>\n",
       "      <td>C5</td>\n",
       "      <td>...</td>\n",
       "      <td>NaN</td>\n",
       "      <td>NaN</td>\n",
       "      <td>NaN</td>\n",
       "      <td>NaN</td>\n",
       "      <td>NaN</td>\n",
       "      <td>NaN</td>\n",
       "      <td>NaN</td>\n",
       "      <td>NaN</td>\n",
       "      <td>NaN</td>\n",
       "      <td>N</td>\n",
       "    </tr>\n",
       "    <tr>\n",
       "      <th>3</th>\n",
       "      <td>3</td>\n",
       "      <td>1076863</td>\n",
       "      <td>10000.0</td>\n",
       "      <td>10000.0</td>\n",
       "      <td>10000.0</td>\n",
       "      <td>36 months</td>\n",
       "      <td>13.49%</td>\n",
       "      <td>339.31</td>\n",
       "      <td>C</td>\n",
       "      <td>C1</td>\n",
       "      <td>...</td>\n",
       "      <td>NaN</td>\n",
       "      <td>NaN</td>\n",
       "      <td>NaN</td>\n",
       "      <td>NaN</td>\n",
       "      <td>NaN</td>\n",
       "      <td>NaN</td>\n",
       "      <td>NaN</td>\n",
       "      <td>NaN</td>\n",
       "      <td>NaN</td>\n",
       "      <td>N</td>\n",
       "    </tr>\n",
       "    <tr>\n",
       "      <th>4</th>\n",
       "      <td>4</td>\n",
       "      <td>1075358</td>\n",
       "      <td>3000.0</td>\n",
       "      <td>3000.0</td>\n",
       "      <td>3000.0</td>\n",
       "      <td>60 months</td>\n",
       "      <td>12.69%</td>\n",
       "      <td>67.79</td>\n",
       "      <td>B</td>\n",
       "      <td>B5</td>\n",
       "      <td>...</td>\n",
       "      <td>NaN</td>\n",
       "      <td>NaN</td>\n",
       "      <td>NaN</td>\n",
       "      <td>NaN</td>\n",
       "      <td>NaN</td>\n",
       "      <td>NaN</td>\n",
       "      <td>NaN</td>\n",
       "      <td>NaN</td>\n",
       "      <td>NaN</td>\n",
       "      <td>N</td>\n",
       "    </tr>\n",
       "  </tbody>\n",
       "</table>\n",
       "<p>5 rows × 142 columns</p>\n",
       "</div>"
      ],
      "text/plain": [
       "   Unnamed: 0       id  loan_amnt  funded_amnt  funded_amnt_inv        term  \\\n",
       "0           0  1077501     5000.0       5000.0           4975.0   36 months   \n",
       "1           1  1077430     2500.0       2500.0           2500.0   60 months   \n",
       "2           2  1077175     2400.0       2400.0           2400.0   36 months   \n",
       "3           3  1076863    10000.0      10000.0          10000.0   36 months   \n",
       "4           4  1075358     3000.0       3000.0           3000.0   60 months   \n",
       "\n",
       "  int_rate  installment grade sub_grade  ... hardship_start_date  \\\n",
       "0   10.65%       162.87     B        B2  ...                 NaN   \n",
       "1   15.27%        59.83     C        C4  ...                 NaN   \n",
       "2   15.96%        84.33     C        C5  ...                 NaN   \n",
       "3   13.49%       339.31     C        C1  ...                 NaN   \n",
       "4   12.69%        67.79     B        B5  ...                 NaN   \n",
       "\n",
       "  hardship_end_date payment_plan_start_date  hardship_length hardship_dpd  \\\n",
       "0               NaN                     NaN              NaN          NaN   \n",
       "1               NaN                     NaN              NaN          NaN   \n",
       "2               NaN                     NaN              NaN          NaN   \n",
       "3               NaN                     NaN              NaN          NaN   \n",
       "4               NaN                     NaN              NaN          NaN   \n",
       "\n",
       "  hardship_loan_status orig_projected_additional_accrued_interest  \\\n",
       "0                  NaN                                        NaN   \n",
       "1                  NaN                                        NaN   \n",
       "2                  NaN                                        NaN   \n",
       "3                  NaN                                        NaN   \n",
       "4                  NaN                                        NaN   \n",
       "\n",
       "  hardship_payoff_balance_amount hardship_last_payment_amount  \\\n",
       "0                            NaN                          NaN   \n",
       "1                            NaN                          NaN   \n",
       "2                            NaN                          NaN   \n",
       "3                            NaN                          NaN   \n",
       "4                            NaN                          NaN   \n",
       "\n",
       "  debt_settlement_flag  \n",
       "0                    N  \n",
       "1                    N  \n",
       "2                    N  \n",
       "3                    N  \n",
       "4                    N  \n",
       "\n",
       "[5 rows x 142 columns]"
      ]
     },
     "execution_count": 4,
     "metadata": {},
     "output_type": "execute_result"
    }
   ],
   "source": [
    "#Check the Dataset \n",
    "df.head()"
   ]
  },
  {
   "cell_type": "code",
   "execution_count": 5,
   "metadata": {
    "colab": {
     "base_uri": "https://localhost:8080/"
    },
    "id": "mTpRDLMWergy",
    "outputId": "40c40d69-1f2c-48b2-9e3c-8ae5abdc0cc9"
   },
   "outputs": [
    {
     "data": {
      "text/plain": [
       "(2925493, 142)"
      ]
     },
     "execution_count": 5,
     "metadata": {},
     "output_type": "execute_result"
    }
   ],
   "source": [
    "#Check the shape of Dataset.\n",
    "df.shape"
   ]
  },
  {
   "cell_type": "code",
   "execution_count": 6,
   "metadata": {
    "colab": {
     "base_uri": "https://localhost:8080/"
    },
    "id": "UlnT511hdKdA",
    "outputId": "eb71448d-3a0e-4fea-8f47-ea5176c21dcc"
   },
   "outputs": [
    {
     "data": {
      "text/plain": [
       "Fully Paid                                             1497783\n",
       "Current                                                1031016\n",
       "Charged Off                                             362548\n",
       "Late (31-120 days)                                       16154\n",
       "In Grace Period                                          10028\n",
       "Late (16-30 days)                                         2719\n",
       "Issued                                                    2062\n",
       "Does not meet the credit policy. Status:Fully Paid        1988\n",
       "Does not meet the credit policy. Status:Charged Off        761\n",
       "Default                                                    433\n",
       "Name: loan_status, dtype: int64"
      ]
     },
     "execution_count": 6,
     "metadata": {},
     "output_type": "execute_result"
    }
   ],
   "source": [
    "#Checking the Loan Status. Loan Status is the target class for analysis.\n",
    "df.loan_status.value_counts()"
   ]
  },
  {
   "cell_type": "code",
   "execution_count": 7,
   "metadata": {
    "id": "OBDQ5ufzWLka"
   },
   "outputs": [],
   "source": [
    "#Out of several Loan Status this analysis consider only Fully Paid, Charged of and Default status. \n",
    "df = df.loc[(df['loan_status'].isin(['Fully Paid', 'Charged Off','Default']))]"
   ]
  },
  {
   "cell_type": "code",
   "execution_count": 8,
   "metadata": {
    "id": "bpsIGTFCGSX-"
   },
   "outputs": [],
   "source": [
    "#Define the Loan status to Paid and Default.\n",
    "df.loan_status = df.loan_status.map(lambda x: \"Paid\" if x == 'Fully Paid' else \"Default\")"
   ]
  },
  {
   "cell_type": "code",
   "execution_count": 9,
   "metadata": {
    "colab": {
     "base_uri": "https://localhost:8080/"
    },
    "id": "9GwEAYy1FXux",
    "outputId": "036d8d9a-d307-4c0a-e921-d0eea8f1caef"
   },
   "outputs": [
    {
     "data": {
      "text/plain": [
       "(1860764, 142)"
      ]
     },
     "execution_count": 9,
     "metadata": {},
     "output_type": "execute_result"
    }
   ],
   "source": [
    "# Look for the shape of selected dataset.\n",
    "df.shape"
   ]
  },
  {
   "cell_type": "code",
   "execution_count": 10,
   "metadata": {
    "colab": {
     "base_uri": "https://localhost:8080/",
     "height": 566
    },
    "id": "EepGBuSRjUUl",
    "outputId": "7228ca30-e460-4e7a-b7db-8cec1fe3df7f"
   },
   "outputs": [
    {
     "name": "stdout",
     "output_type": "stream",
     "text": [
      "Number of Loan issued \n",
      " 2007       251\n",
      "2008      1562\n",
      "2009      4716\n",
      "2010     11536\n",
      "2011     21721\n",
      "2012     53367\n",
      "2013    134814\n",
      "2014    235619\n",
      "2015    402837\n",
      "2016    403104\n",
      "2017    314368\n",
      "2018    197178\n",
      "2019     75405\n",
      "2020      4286\n",
      "Name: Date, dtype: int64\n"
     ]
    },
    {
     "data": {
      "image/png": "[encoded data removed]",
      "text/plain": [
       "<Figure size 432x288 with 1 Axes>"
      ]
     },
     "metadata": {
      "needs_background": "light"
     },
     "output_type": "display_data"
    }
   ],
   "source": [
    "#Number of loan issued throughout the years \n",
    "\n",
    "df['Date'] = pd.to_datetime(df.issue_d)\n",
    "\n",
    "df['Date'].dt.year.value_counts().sort_index().plot.bar()\n",
    "plt.title('Loans Issued Per Year')\n",
    "plt.xlabel('Financial Year')\n",
    "plt.ylabel('Count')\n",
    "plt.tight_layout()\n",
    "\n",
    "print(\"Number of Loan issued \\n\",df['Date'].dt.year.value_counts().sort_index())\n",
    "\n",
    "plt.show()"
   ]
  },
  {
   "cell_type": "markdown",
   "metadata": {
    "id": "GVCJutLUwzXS"
   },
   "source": [
    "# Feature Selection and Data Preproccessing\n",
    "\n"
   ]
  },
  {
   "cell_type": "markdown",
   "metadata": {
    "id": "0Hw5yteFxiel"
   },
   "source": [
    "**Now finding missing values and their data types**"
   ]
  },
  {
   "cell_type": "code",
   "execution_count": 11,
   "metadata": {
    "id": "MC8tTVsuxKDE"
   },
   "outputs": [],
   "source": [
    "#Merging the two table into one to get the insights of number of missing value of each features and their data type. \n",
    "df_data_types = pd.merge(df.isnull().sum(axis = 0).sort_values().to_frame('missing_value').reset_index(),\n",
    "         df.dtypes.to_frame('feature_type').reset_index(),\n",
    "         on = 'index',\n",
    "         how = 'inner')"
   ]
  },
  {
   "cell_type": "code",
   "execution_count": 12,
   "metadata": {
    "colab": {
     "base_uri": "https://localhost:8080/",
     "height": 417
    },
    "id": "5oZLza7LxOVE",
    "outputId": "6ff11150-7b3f-4c83-a3bb-df1d78c8289d"
   },
   "outputs": [
    {
     "data": {
      "text/html": [
       "<div>\n",
       "<style scoped>\n",
       "    .dataframe tbody tr th:only-of-type {\n",
       "        vertical-align: middle;\n",
       "    }\n",
       "\n",
       "    .dataframe tbody tr th {\n",
       "        vertical-align: top;\n",
       "    }\n",
       "\n",
       "    .dataframe thead th {\n",
       "        text-align: right;\n",
       "    }\n",
       "</style>\n",
       "<table border=\"1\" class=\"dataframe\">\n",
       "  <thead>\n",
       "    <tr style=\"text-align: right;\">\n",
       "      <th></th>\n",
       "      <th>index</th>\n",
       "      <th>missing_value</th>\n",
       "      <th>feature_type</th>\n",
       "    </tr>\n",
       "  </thead>\n",
       "  <tbody>\n",
       "    <tr>\n",
       "      <th>0</th>\n",
       "      <td>Unnamed: 0</td>\n",
       "      <td>0</td>\n",
       "      <td>int64</td>\n",
       "    </tr>\n",
       "    <tr>\n",
       "      <th>1</th>\n",
       "      <td>open_acc</td>\n",
       "      <td>0</td>\n",
       "      <td>float64</td>\n",
       "    </tr>\n",
       "    <tr>\n",
       "      <th>2</th>\n",
       "      <td>pub_rec</td>\n",
       "      <td>0</td>\n",
       "      <td>float64</td>\n",
       "    </tr>\n",
       "    <tr>\n",
       "      <th>3</th>\n",
       "      <td>revol_bal</td>\n",
       "      <td>0</td>\n",
       "      <td>float64</td>\n",
       "    </tr>\n",
       "    <tr>\n",
       "      <th>4</th>\n",
       "      <td>total_acc</td>\n",
       "      <td>0</td>\n",
       "      <td>float64</td>\n",
       "    </tr>\n",
       "    <tr>\n",
       "      <th>...</th>\n",
       "      <td>...</td>\n",
       "      <td>...</td>\n",
       "      <td>...</td>\n",
       "    </tr>\n",
       "    <tr>\n",
       "      <th>135</th>\n",
       "      <td>hardship_end_date</td>\n",
       "      <td>1848057</td>\n",
       "      <td>object</td>\n",
       "    </tr>\n",
       "    <tr>\n",
       "      <th>136</th>\n",
       "      <td>payment_plan_start_date</td>\n",
       "      <td>1848057</td>\n",
       "      <td>object</td>\n",
       "    </tr>\n",
       "    <tr>\n",
       "      <th>140</th>\n",
       "      <td>hardship_type</td>\n",
       "      <td>1848057</td>\n",
       "      <td>object</td>\n",
       "    </tr>\n",
       "    <tr>\n",
       "      <th>141</th>\n",
       "      <td>hardship_loan_status</td>\n",
       "      <td>1848068</td>\n",
       "      <td>object</td>\n",
       "    </tr>\n",
       "    <tr>\n",
       "      <th>142</th>\n",
       "      <td>next_pymnt_d</td>\n",
       "      <td>1860331</td>\n",
       "      <td>object</td>\n",
       "    </tr>\n",
       "  </tbody>\n",
       "</table>\n",
       "<p>143 rows × 3 columns</p>\n",
       "</div>"
      ],
      "text/plain": [
       "                       index  missing_value feature_type\n",
       "0                 Unnamed: 0              0        int64\n",
       "1                   open_acc              0      float64\n",
       "2                    pub_rec              0      float64\n",
       "3                  revol_bal              0      float64\n",
       "4                  total_acc              0      float64\n",
       "..                       ...            ...          ...\n",
       "135        hardship_end_date        1848057       object\n",
       "136  payment_plan_start_date        1848057       object\n",
       "140            hardship_type        1848057       object\n",
       "141     hardship_loan_status        1848068       object\n",
       "142             next_pymnt_d        1860331       object\n",
       "\n",
       "[143 rows x 3 columns]"
      ]
     },
     "execution_count": 12,
     "metadata": {},
     "output_type": "execute_result"
    }
   ],
   "source": [
    "#Check the mergerd table \n",
    "df_data_types.sort_values(['missing_value', 'feature_type'])"
   ]
  },
  {
   "cell_type": "markdown",
   "metadata": {
    "id": "vdHLKKXmxZCg"
   },
   "source": [
    "**Checking and dropping columns having more than 50% missing values.**"
   ]
  },
  {
   "cell_type": "code",
   "execution_count": 13,
   "metadata": {
    "id": "tY8lWmiwxgQp"
   },
   "outputs": [],
   "source": [
    "#Dropping the 50% missing valued columns from the dataset.\n",
    "missing_columns = df.isnull().sum(axis = 0).sort_values().to_frame('missing_value').reset_index()\n",
    "missig_Values = list(missing_columns[missing_columns.missing_value >= 900000]['index'])\n",
    "df.drop(missig_Values, axis = 1, inplace = True)"
   ]
  },
  {
   "cell_type": "code",
   "execution_count": 14,
   "metadata": {
    "colab": {
     "base_uri": "https://localhost:8080/"
    },
    "id": "m9RHEBCq1cL4",
    "outputId": "7bc4084e-bb1d-49c7-89bd-bf9b3f831f38"
   },
   "outputs": [
    {
     "data": {
      "text/plain": [
       "(1860764, 107)"
      ]
     },
     "execution_count": 14,
     "metadata": {},
     "output_type": "execute_result"
    }
   ],
   "source": [
    "#Looking for data shape after removing null and more than 50% missing valued features.\n",
    "df.shape"
   ]
  },
  {
   "cell_type": "markdown",
   "metadata": {
    "id": "UJSBU7x54_ze"
   },
   "source": [
    "II)Dropping constant features"
   ]
  },
  {
   "cell_type": "code",
   "execution_count": 15,
   "metadata": {
    "id": "2sLSe0g4yqy2"
   },
   "outputs": [],
   "source": [
    "#Dropping unique valued features\n",
    "def get_unique(dataFrame):\n",
    "    unique_features = []\n",
    "    for i in list(dataFrame.columns):\n",
    "        if dataFrame[i].unique().size < 2:\n",
    "            unique_features.append(i)\n",
    "    return unique_features\n",
    "\n",
    "unique_features = get_unique(df)\n",
    "df.drop(unique_features, axis = 1, inplace = True)"
   ]
  },
  {
   "cell_type": "markdown",
   "metadata": {
    "id": "Jvp3ybso5Kok"
   },
   "source": [
    "**Removing Duplicate Rows from the dataframe**"
   ]
  },
  {
   "cell_type": "code",
   "execution_count": 16,
   "metadata": {
    "colab": {
     "base_uri": "https://localhost:8080/"
    },
    "id": "qLeAu6mu5Sea",
    "outputId": "933a9fca-73c1-4778-aa2a-ef0092e93a14"
   },
   "outputs": [
    {
     "data": {
      "text/plain": [
       "(1860764, 105)"
      ]
     },
     "execution_count": 16,
     "metadata": {},
     "output_type": "execute_result"
    }
   ],
   "source": [
    "#Removing duplicate rows from the dataset.\n",
    "df.drop_duplicates(inplace= True)\n",
    "df.shape"
   ]
  },
  {
   "cell_type": "markdown",
   "metadata": {
    "id": "hfTjpet35mUC"
   },
   "source": [
    "IV) Removing Duplicate Columns from the Dataframe"
   ]
  },
  {
   "cell_type": "code",
   "execution_count": 17,
   "metadata": {
    "colab": {
     "base_uri": "https://localhost:8080/"
    },
    "id": "6dF1nrI15rC-",
    "outputId": "7f51ac4c-55b7-44c2-f6f1-64128cd818b6"
   },
   "outputs": [
    {
     "name": "stdout",
     "output_type": "stream",
     "text": [
      "[]\n",
      "(1860764, 105)\n"
     ]
    }
   ],
   "source": [
    "#Dropping duplicate Columns from the Dataframe\n",
    "def duplicate_columns(frame):\n",
    "    groups = frame.columns.to_series().groupby(frame.dtypes).groups\n",
    "    dups = []\n",
    "\n",
    "    for t, v in groups.items():\n",
    "\n",
    "        cs = frame[v].columns\n",
    "        vs = frame[v]\n",
    "        lcs = len(cs)\n",
    "\n",
    "        for i in range(lcs):\n",
    "            ia = vs.iloc[:,i].values\n",
    "            for j in range(i+1, lcs):\n",
    "                ja = vs.iloc[:,j].values\n",
    "                if np.array_equal(ia, ja):\n",
    "                    dups.append(cs[i])\n",
    "                    break\n",
    "    return dups\n",
    "\n",
    "duplicate_cols = duplicate_columns(df)\n",
    "\n",
    "print(duplicate_cols)\n",
    "\n",
    "print(df.shape)"
   ]
  },
  {
   "cell_type": "markdown",
   "metadata": {
    "id": "tnEGBD75AqEs"
   },
   "source": [
    "**We will go through each feature and decide which features should be deleted from the dataset.**\n"
   ]
  },
  {
   "cell_type": "code",
   "execution_count": 18,
   "metadata": {
    "id": "_uV4jaY3Aw93"
   },
   "outputs": [],
   "source": [
    "#Define a empty list where all the removable features would addaed. \n",
    "removeable_features = []"
   ]
  },
  {
   "cell_type": "code",
   "execution_count": 19,
   "metadata": {
    "id": "NhaAso31A0MT"
   },
   "outputs": [],
   "source": [
    "#define a function to visualize the features with and without loan status.\n",
    "def plot_feature(col_name, isContinuous):\n",
    "    \"\"\"\n",
    "    Visualize a variable with and without fetching on the loan status\n",
    "    - column_name is the variable name in the dataframe\n",
    "    - full_name is the full variable name\n",
    "    - continuous is True if the variable is continuous, False otherwise\n",
    "    \"\"\"\n",
    "    f, (ax1, ax2) = plt.subplots(nrows=1, ncols=2, figsize=(15,4), dpi=90)\n",
    "    \n",
    "    # Plot without loan status\n",
    "    if isContinuous:\n",
    "        sns.distplot(df.loc[df[col_name].notnull(), col_name], kde=False, ax=ax1)\n",
    "    else:\n",
    "        sns.countplot(df[col_name], order=sorted(df[col_name].unique()), color='#5975A4', saturation=1, ax=ax1)\n",
    "        ax1.set_ylabel('Count')\n",
    "        ax1.set_title(col_name)\n",
    "        plt.xticks(rotation = 90)\n",
    "        ax1.set_xlabel(col_name)\n",
    "\n",
    "    # Plot with loan status\n",
    "    if isContinuous:\n",
    "        sns.boxplot(x=col_name, y='loan_status', data=df, ax=ax2)\n",
    "        ax2.set_ylabel('')\n",
    "        ax2.set_title(col_name + ' by Loan Status')\n",
    "    else:\n",
    "        data = df.groupby(col_name)['loan_status'].value_counts(normalize=True).to_frame('proportion').reset_index()        \n",
    "        sns.barplot(x = col_name, y = 'proportion', hue= \"loan_status\", data = data, saturation=1, ax=ax2)\n",
    "        ax2.set_ylabel('Loan fraction')\n",
    "        ax2.set_title('Loan status')\n",
    "        plt.xticks(rotation = 90)\n",
    "        ax2.set_xlabel(col_name)\n",
    "    \n",
    "    plt.tight_layout()\n"
   ]
  },
  {
   "cell_type": "markdown",
   "metadata": {
    "id": "8dPcGODEBUZA"
   },
   "source": [
    "**Features 0-20**"
   ]
  },
  {
   "cell_type": "code",
   "execution_count": 20,
   "metadata": {
    "colab": {
     "base_uri": "https://localhost:8080/",
     "height": 374
    },
    "id": "yXLzj0gKBXCW",
    "outputId": "1f9f320c-0bd5-4f08-84aa-01dadf9d11ef"
   },
   "outputs": [
    {
     "data": {
      "text/html": [
       "<div>\n",
       "<style scoped>\n",
       "    .dataframe tbody tr th:only-of-type {\n",
       "        vertical-align: middle;\n",
       "    }\n",
       "\n",
       "    .dataframe tbody tr th {\n",
       "        vertical-align: top;\n",
       "    }\n",
       "\n",
       "    .dataframe thead th {\n",
       "        text-align: right;\n",
       "    }\n",
       "</style>\n",
       "<table border=\"1\" class=\"dataframe\">\n",
       "  <thead>\n",
       "    <tr style=\"text-align: right;\">\n",
       "      <th></th>\n",
       "      <th>Unnamed: 0</th>\n",
       "      <th>id</th>\n",
       "      <th>loan_amnt</th>\n",
       "      <th>funded_amnt</th>\n",
       "      <th>funded_amnt_inv</th>\n",
       "      <th>term</th>\n",
       "      <th>int_rate</th>\n",
       "      <th>installment</th>\n",
       "      <th>grade</th>\n",
       "      <th>sub_grade</th>\n",
       "      <th>emp_title</th>\n",
       "      <th>emp_length</th>\n",
       "      <th>home_ownership</th>\n",
       "      <th>annual_inc</th>\n",
       "      <th>verification_status</th>\n",
       "      <th>issue_d</th>\n",
       "      <th>loan_status</th>\n",
       "      <th>url</th>\n",
       "      <th>purpose</th>\n",
       "      <th>title</th>\n",
       "    </tr>\n",
       "  </thead>\n",
       "  <tbody>\n",
       "    <tr>\n",
       "      <th>0</th>\n",
       "      <td>0</td>\n",
       "      <td>1077501</td>\n",
       "      <td>5000.0</td>\n",
       "      <td>5000.0</td>\n",
       "      <td>4975.0</td>\n",
       "      <td>36 months</td>\n",
       "      <td>10.65%</td>\n",
       "      <td>162.87</td>\n",
       "      <td>B</td>\n",
       "      <td>B2</td>\n",
       "      <td>NaN</td>\n",
       "      <td>10+ years</td>\n",
       "      <td>RENT</td>\n",
       "      <td>24000.0</td>\n",
       "      <td>Verified</td>\n",
       "      <td>Dec-2011</td>\n",
       "      <td>Paid</td>\n",
       "      <td>https://lendingclub.com/browse/loanDetail.acti...</td>\n",
       "      <td>credit_card</td>\n",
       "      <td>Computer</td>\n",
       "    </tr>\n",
       "    <tr>\n",
       "      <th>1</th>\n",
       "      <td>1</td>\n",
       "      <td>1077430</td>\n",
       "      <td>2500.0</td>\n",
       "      <td>2500.0</td>\n",
       "      <td>2500.0</td>\n",
       "      <td>60 months</td>\n",
       "      <td>15.27%</td>\n",
       "      <td>59.83</td>\n",
       "      <td>C</td>\n",
       "      <td>C4</td>\n",
       "      <td>Ryder</td>\n",
       "      <td>&lt; 1 year</td>\n",
       "      <td>RENT</td>\n",
       "      <td>30000.0</td>\n",
       "      <td>Source Verified</td>\n",
       "      <td>Dec-2011</td>\n",
       "      <td>Default</td>\n",
       "      <td>https://lendingclub.com/browse/loanDetail.acti...</td>\n",
       "      <td>car</td>\n",
       "      <td>bike</td>\n",
       "    </tr>\n",
       "    <tr>\n",
       "      <th>2</th>\n",
       "      <td>2</td>\n",
       "      <td>1077175</td>\n",
       "      <td>2400.0</td>\n",
       "      <td>2400.0</td>\n",
       "      <td>2400.0</td>\n",
       "      <td>36 months</td>\n",
       "      <td>15.96%</td>\n",
       "      <td>84.33</td>\n",
       "      <td>C</td>\n",
       "      <td>C5</td>\n",
       "      <td>NaN</td>\n",
       "      <td>10+ years</td>\n",
       "      <td>RENT</td>\n",
       "      <td>12252.0</td>\n",
       "      <td>Not Verified</td>\n",
       "      <td>Dec-2011</td>\n",
       "      <td>Paid</td>\n",
       "      <td>https://lendingclub.com/browse/loanDetail.acti...</td>\n",
       "      <td>small_business</td>\n",
       "      <td>real estate business</td>\n",
       "    </tr>\n",
       "    <tr>\n",
       "      <th>3</th>\n",
       "      <td>3</td>\n",
       "      <td>1076863</td>\n",
       "      <td>10000.0</td>\n",
       "      <td>10000.0</td>\n",
       "      <td>10000.0</td>\n",
       "      <td>36 months</td>\n",
       "      <td>13.49%</td>\n",
       "      <td>339.31</td>\n",
       "      <td>C</td>\n",
       "      <td>C1</td>\n",
       "      <td>AIR RESOURCES BOARD</td>\n",
       "      <td>10+ years</td>\n",
       "      <td>RENT</td>\n",
       "      <td>49200.0</td>\n",
       "      <td>Source Verified</td>\n",
       "      <td>Dec-2011</td>\n",
       "      <td>Paid</td>\n",
       "      <td>https://lendingclub.com/browse/loanDetail.acti...</td>\n",
       "      <td>other</td>\n",
       "      <td>personel</td>\n",
       "    </tr>\n",
       "    <tr>\n",
       "      <th>4</th>\n",
       "      <td>4</td>\n",
       "      <td>1075358</td>\n",
       "      <td>3000.0</td>\n",
       "      <td>3000.0</td>\n",
       "      <td>3000.0</td>\n",
       "      <td>60 months</td>\n",
       "      <td>12.69%</td>\n",
       "      <td>67.79</td>\n",
       "      <td>B</td>\n",
       "      <td>B5</td>\n",
       "      <td>University Medical Group</td>\n",
       "      <td>1 year</td>\n",
       "      <td>RENT</td>\n",
       "      <td>80000.0</td>\n",
       "      <td>Source Verified</td>\n",
       "      <td>Dec-2011</td>\n",
       "      <td>Paid</td>\n",
       "      <td>https://lendingclub.com/browse/loanDetail.acti...</td>\n",
       "      <td>other</td>\n",
       "      <td>Personal</td>\n",
       "    </tr>\n",
       "  </tbody>\n",
       "</table>\n",
       "</div>"
      ],
      "text/plain": [
       "   Unnamed: 0       id  loan_amnt  funded_amnt  funded_amnt_inv        term  \\\n",
       "0           0  1077501     5000.0       5000.0           4975.0   36 months   \n",
       "1           1  1077430     2500.0       2500.0           2500.0   60 months   \n",
       "2           2  1077175     2400.0       2400.0           2400.0   36 months   \n",
       "3           3  1076863    10000.0      10000.0          10000.0   36 months   \n",
       "4           4  1075358     3000.0       3000.0           3000.0   60 months   \n",
       "\n",
       "  int_rate  installment grade sub_grade                 emp_title emp_length  \\\n",
       "0   10.65%       162.87     B        B2                       NaN  10+ years   \n",
       "1   15.27%        59.83     C        C4                     Ryder   < 1 year   \n",
       "2   15.96%        84.33     C        C5                       NaN  10+ years   \n",
       "3   13.49%       339.31     C        C1       AIR RESOURCES BOARD  10+ years   \n",
       "4   12.69%        67.79     B        B5  University Medical Group     1 year   \n",
       "\n",
       "  home_ownership  annual_inc verification_status   issue_d loan_status  \\\n",
       "0           RENT     24000.0            Verified  Dec-2011        Paid   \n",
       "1           RENT     30000.0     Source Verified  Dec-2011     Default   \n",
       "2           RENT     12252.0        Not Verified  Dec-2011        Paid   \n",
       "3           RENT     49200.0     Source Verified  Dec-2011        Paid   \n",
       "4           RENT     80000.0     Source Verified  Dec-2011        Paid   \n",
       "\n",
       "                                                 url         purpose  \\\n",
       "0  https://lendingclub.com/browse/loanDetail.acti...     credit_card   \n",
       "1  https://lendingclub.com/browse/loanDetail.acti...             car   \n",
       "2  https://lendingclub.com/browse/loanDetail.acti...  small_business   \n",
       "3  https://lendingclub.com/browse/loanDetail.acti...           other   \n",
       "4  https://lendingclub.com/browse/loanDetail.acti...           other   \n",
       "\n",
       "                  title  \n",
       "0              Computer  \n",
       "1                  bike  \n",
       "2  real estate business  \n",
       "3              personel  \n",
       "4              Personal  "
      ]
     },
     "execution_count": 20,
     "metadata": {},
     "output_type": "execute_result"
    }
   ],
   "source": [
    "#Looking for the first 20 features.\n",
    "df.iloc[0:5, 0: 20]"
   ]
  },
  {
   "cell_type": "code",
   "execution_count": 21,
   "metadata": {
    "colab": {
     "base_uri": "https://localhost:8080/",
     "height": 385
    },
    "id": "Co2XKc4cBb-8",
    "outputId": "e9e7d025-92fe-432a-f0b6-191b9a0dbfad"
   },
   "outputs": [
    {
     "name": "stdout",
     "output_type": "stream",
     "text": [
      "Number of Different Loan amount issued:  1568\n"
     ]
    },
    {
     "data": {
      "image/png": "[encoded data removed]",
      "text/plain": [
       "<Figure size 1350x360 with 2 Axes>"
      ]
     },
     "metadata": {
      "needs_background": "light"
     },
     "output_type": "display_data"
    }
   ],
   "source": [
    "#Plot Loan amount with number of unique value.\n",
    "print('Number of Different Loan amount issued: ',len(df.loan_amnt.value_counts()))\n",
    "plot_feature('loan_amnt', True)"
   ]
  },
  {
   "cell_type": "code",
   "execution_count": 22,
   "metadata": {
    "colab": {
     "base_uri": "https://localhost:8080/",
     "height": 435
    },
    "id": "msiZosjJCRQP",
    "outputId": "0389b367-cb38-4a39-c5a2-771de216d396"
   },
   "outputs": [
    {
     "name": "stdout",
     "output_type": "stream",
     "text": [
      "Number of Loan issued each Term\n",
      " 36    1393606\n",
      "60     467158\n",
      "Name: term, dtype: int64\n"
     ]
    },
    {
     "data": {
      "image/png": "[encoded data removed]",
      "text/plain": [
       "<Figure size 1350x360 with 2 Axes>"
      ]
     },
     "metadata": {
      "needs_background": "light"
     },
     "output_type": "display_data"
    }
   ],
   "source": [
    "#Plot the Term features.\n",
    "df.term = df.term.astype(str).str.replace('months', '').astype(np.int)\n",
    "print(\"Number of Loan issued each Term\\n\", df.term.value_counts())\n",
    "plot_feature('term', False)"
   ]
  },
  {
   "cell_type": "code",
   "execution_count": 23,
   "metadata": {
    "colab": {
     "base_uri": "https://localhost:8080/",
     "height": 385
    },
    "id": "VsRvlQBac4Ai",
    "outputId": "b10c4522-e478-44cd-ad37-5e90e2a45ac2"
   },
   "outputs": [
    {
     "name": "stdout",
     "output_type": "stream",
     "text": [
      "Number of different interest rates :  684\n"
     ]
    },
    {
     "data": {
      "image/png": "[encoded data removed]",
      "text/plain": [
       "<Figure size 1350x360 with 2 Axes>"
      ]
     },
     "metadata": {
      "needs_background": "light"
     },
     "output_type": "display_data"
    }
   ],
   "source": [
    "#Plot int_rate feature.\n",
    "df.int_rate = df.int_rate.astype(str).str.replace('%', '').astype(np.float32)\n",
    "print(\"Number of different interest rates : \", len(df.int_rate.value_counts()))\n",
    "plot_feature('int_rate', True)"
   ]
  },
  {
   "cell_type": "code",
   "execution_count": 24,
   "metadata": {
    "colab": {
     "base_uri": "https://localhost:8080/",
     "height": 519
    },
    "id": "Ejl44yRmdABn",
    "outputId": "98b7f02f-ebbb-4b62-8bbb-49d61c6d8135"
   },
   "outputs": [
    {
     "name": "stdout",
     "output_type": "stream",
     "text": [
      "Different grades of Loan Borrower\n",
      " A    346349\n",
      "B    546721\n",
      "C    528265\n",
      "D    275088\n",
      "E    116531\n",
      "F     37115\n",
      "G     10695\n",
      "Name: grade, dtype: int64\n"
     ]
    },
    {
     "data": {
      "image/png": "[encoded data removed]",
      "text/plain": [
       "<Figure size 1350x360 with 2 Axes>"
      ]
     },
     "metadata": {
      "needs_background": "light"
     },
     "output_type": "display_data"
    }
   ],
   "source": [
    "#Plot Grade columns with value counts.\n",
    "print(\"Different grades of Loan Borrower\\n\",df.grade.value_counts().sort_index())\n",
    "plot_feature('grade', False)"
   ]
  },
  {
   "cell_type": "code",
   "execution_count": 25,
   "metadata": {
    "colab": {
     "base_uri": "https://localhost:8080/",
     "height": 990
    },
    "id": "CV9iyuJkdJzj",
    "outputId": "62a9749b-d15e-4ed2-8a9b-b42240a6b283"
   },
   "outputs": [
    {
     "name": "stdout",
     "output_type": "stream",
     "text": [
      "Different Sub grades of Loan Borrower\n",
      " A1     67301\n",
      "A2     55322\n",
      "A3     57428\n",
      "A4     77098\n",
      "A5     89200\n",
      "B1    102110\n",
      "B2    102227\n",
      "B3    109932\n",
      "B4    115840\n",
      "B5    116612\n",
      "C1    118968\n",
      "C2    108132\n",
      "C3    103591\n",
      "C4    102762\n",
      "C5     94812\n",
      "D1     69198\n",
      "D2     63938\n",
      "D3     54089\n",
      "D4     47586\n",
      "D5     40277\n",
      "E1     29404\n",
      "E2     26142\n",
      "E3     22846\n",
      "E4     19435\n",
      "E5     18704\n",
      "F1     11751\n",
      "F2      8286\n",
      "F3      6960\n",
      "F4      5521\n",
      "F5      4597\n",
      "G1      3578\n",
      "G2      2437\n",
      "G3      1851\n",
      "G4      1490\n",
      "G5      1339\n",
      "Name: sub_grade, dtype: int64\n"
     ]
    },
    {
     "data": {
      "image/png": "[encoded data removed]",
      "text/plain": [
       "<Figure size 1350x360 with 2 Axes>"
      ]
     },
     "metadata": {
      "needs_background": "light"
     },
     "output_type": "display_data"
    }
   ],
   "source": [
    "#Plot Sub-grade column.\n",
    "print(\"Different Sub grades of Loan Borrower\\n\",df.sub_grade.value_counts().sort_index())\n",
    "plot_feature('sub_grade', False)"
   ]
  },
  {
   "cell_type": "markdown",
   "metadata": {
    "id": "HN4UvOc9gNN0"
   },
   "source": [
    "It seems Subgrades provide more information than grade. We will remove grade and keep the subgrade."
   ]
  },
  {
   "cell_type": "code",
   "execution_count": 26,
   "metadata": {
    "colab": {
     "base_uri": "https://localhost:8080/"
    },
    "id": "Cl6B9jpgdfSA",
    "outputId": "66c1d3b1-abca-4b4a-f56c-1fb4c389987b"
   },
   "outputs": [
    {
     "name": "stdout",
     "output_type": "stream",
     "text": [
      "Unique Number of Employment Title: \n",
      " 456736\n"
     ]
    }
   ],
   "source": [
    "#Check The emploment title.\n",
    "print(\"Unique Number of Employment Title: \\n\",len(df.emp_title.value_counts()))"
   ]
  },
  {
   "cell_type": "code",
   "execution_count": 27,
   "metadata": {
    "colab": {
     "base_uri": "https://localhost:8080/"
    },
    "id": "bqWQVu1sduh4",
    "outputId": "259287fb-80d6-495c-981a-790d36a11d52"
   },
   "outputs": [
    {
     "name": "stdout",
     "output_type": "stream",
     "text": [
      "Different Employment Length:\n",
      " 1 year       122964\n",
      "10+ years    611462\n",
      "2 years      168545\n",
      "3 years      149311\n",
      "4 years      112236\n",
      "5 years      115894\n",
      "6 years       85369\n",
      "7 years       78153\n",
      "8 years       78659\n",
      "9 years       67179\n",
      "< 1 year     153732\n",
      "Name: emp_length, dtype: int64\n"
     ]
    }
   ],
   "source": [
    "#Check the emp_length\n",
    "print (\"Different Employment Length:\\n\", df.emp_length.value_counts().sort_index())"
   ]
  },
  {
   "cell_type": "code",
   "execution_count": 28,
   "metadata": {
    "colab": {
     "base_uri": "https://localhost:8080/",
     "height": 368
    },
    "id": "sFCIKgAzdzG8",
    "outputId": "ef688334-6fb6-4b5e-d1bf-8245e82e5995"
   },
   "outputs": [
    {
     "data": {
      "image/png": "[encoded data removed]",
      "text/plain": [
       "<Figure size 1350x360 with 2 Axes>"
      ]
     },
     "metadata": {
      "needs_background": "light"
     },
     "output_type": "display_data"
    }
   ],
   "source": [
    "#Modify the emp_length into int.\n",
    "df.emp_length.fillna(value=0,inplace=True)\n",
    "df['emp_length'].replace(to_replace='[^0-9]+', value='', inplace=True, regex=True)\n",
    "df['emp_length'] = df['emp_length'].astype(int)\n",
    "plot_feature('emp_length', False)"
   ]
  },
  {
   "cell_type": "code",
   "execution_count": 29,
   "metadata": {
    "colab": {
     "base_uri": "https://localhost:8080/",
     "height": 502
    },
    "id": "n9fa8AIqeoKv",
    "outputId": "0e71df4c-5b83-4719-a749-b5b08503956f"
   },
   "outputs": [
    {
     "name": "stdout",
     "output_type": "stream",
     "text": [
      "Different Homeownership \n",
      " MORTGAGE    918219\n",
      "RENT        735538\n",
      "OWN         205639\n",
      "ANY           1175\n",
      "OTHER          144\n",
      "NONE            49\n",
      "Name: home_ownership, dtype: int64\n"
     ]
    },
    {
     "data": {
      "image/png": "[encoded data removed]",
      "text/plain": [
       "<Figure size 1350x360 with 2 Axes>"
      ]
     },
     "metadata": {
      "needs_background": "light"
     },
     "output_type": "display_data"
    }
   ],
   "source": [
    "#Check the Home-ownership columns\n",
    "print(\"Different Homeownership \\n\", df.home_ownership.value_counts())\n",
    "plot_feature('home_ownership', False)"
   ]
  },
  {
   "cell_type": "code",
   "execution_count": 30,
   "metadata": {
    "colab": {
     "base_uri": "https://localhost:8080/"
    },
    "id": "ILfNwdaAe0gU",
    "outputId": "f4c4e08e-d995-43b5-9aa8-5af7b9736df4"
   },
   "outputs": [
    {
     "data": {
      "text/plain": [
       "Source Verified    734249\n",
       "Not Verified       588491\n",
       "Verified           538024\n",
       "Name: verification_status, dtype: int64"
      ]
     },
     "execution_count": 30,
     "metadata": {},
     "output_type": "execute_result"
    }
   ],
   "source": [
    "#Check the verification status.\n",
    "df.verification_status.value_counts()"
   ]
  },
  {
   "cell_type": "code",
   "execution_count": 31,
   "metadata": {
    "colab": {
     "base_uri": "https://localhost:8080/",
     "height": 368
    },
    "id": "J6-iBQtKe7HA",
    "outputId": "fc7f2037-2101-48d0-db28-54eab4427717"
   },
   "outputs": [
    {
     "data": {
      "image/png": "[encoded data removed]",
      "text/plain": [
       "<Figure size 1350x360 with 2 Axes>"
      ]
     },
     "metadata": {
      "needs_background": "light"
     },
     "output_type": "display_data"
    }
   ],
   "source": [
    "#Modify the verification status into Verified and Not Verified.\n",
    "df.verification_status = df.verification_status.map(lambda x: \"Not Verified\" if x == 'Not Verified' else \"Verified\")\n",
    "plot_feature('verification_status', False)"
   ]
  },
  {
   "cell_type": "code",
   "execution_count": 32,
   "metadata": {
    "id": "CYUapty7fQ5I"
   },
   "outputs": [
    {
     "name": "stdout",
     "output_type": "stream",
     "text": [
      "Apr    158680\n",
      "Aug    157693\n",
      "Dec    145111\n",
      "Feb    138731\n",
      "Jan    153662\n",
      "Jul    174703\n",
      "Jun    142361\n",
      "Mar    173330\n",
      "May    152160\n",
      "Nov    156028\n",
      "Oct    180001\n",
      "Sep    128304\n",
      "Name: issue_month, dtype: int64\n"
     ]
    },
    {
     "data": {
      "image/png": "[encoded data removed]",
      "text/plain": [
       "<Figure size 1350x360 with 2 Axes>"
      ]
     },
     "metadata": {
      "needs_background": "light"
     },
     "output_type": "display_data"
    }
   ],
   "source": [
    "#create a new column from issue_d column and plot it for visualization. \n",
    "df['issue_month'] = pd.Series(df.issue_d).str.replace(r'-\\d+', '')\n",
    "print(df.issue_month.value_counts().sort_index())\n",
    "plot_feature('issue_month', False)"
   ]
  },
  {
   "cell_type": "markdown",
   "metadata": {},
   "source": [
    "It seems monthwise default rate is flat. "
   ]
  },
  {
   "cell_type": "code",
   "execution_count": 33,
   "metadata": {
    "colab": {
     "base_uri": "https://localhost:8080/",
     "height": 586
    },
    "id": "CIPovTvPfVI1",
    "outputId": "d250feaf-d823-46cb-8a2c-6bc4ed4948b1"
   },
   "outputs": [
    {
     "name": "stdout",
     "output_type": "stream",
     "text": [
      "Apr    158680\n",
      "Aug    157693\n",
      "Dec    145111\n",
      "Feb    138731\n",
      "Jan    153662\n",
      "Jul    174703\n",
      "Jun    142361\n",
      "Mar    173330\n",
      "May    152160\n",
      "Nov    156028\n",
      "Oct    180001\n",
      "Sep    128304\n",
      "Name: issue_month, dtype: int64\n"
     ]
    },
    {
     "data": {
      "image/png": "[encoded data removed]",
      "text/plain": [
       "<Figure size 1350x360 with 2 Axes>"
      ]
     },
     "metadata": {
      "needs_background": "light"
     },
     "output_type": "display_data"
    }
   ],
   "source": [
    "print(df.issue_month.value_counts().sort_index())\n",
    "plot_feature('issue_month', False)"
   ]
  },
  {
   "cell_type": "code",
   "execution_count": 34,
   "metadata": {
    "id": "OzgDoAnEf6zH"
   },
   "outputs": [],
   "source": [
    "#Create a column named issue_year.\n",
    "df['issue_year'] = pd.Series(df.issue_d).str.replace(r'\\w+-', '').astype(np.int)"
   ]
  },
  {
   "cell_type": "code",
   "execution_count": 35,
   "metadata": {
    "colab": {
     "base_uri": "https://localhost:8080/"
    },
    "id": "aSimZi80gQRL",
    "outputId": "cc37792c-7c73-4585-98b7-f54c5908ec2a"
   },
   "outputs": [
    {
     "name": "stdout",
     "output_type": "stream",
     "text": [
      "Loan Status:\n",
      " Paid       1497783\n",
      "Default     362981\n",
      "Name: loan_status, dtype: int64\n"
     ]
    },
    {
     "data": {
      "image/png": "[encoded data removed]",
      "text/plain": [
       "<Figure size 432x288 with 1 Axes>"
      ]
     },
     "metadata": {
      "needs_background": "light"
     },
     "output_type": "display_data"
    }
   ],
   "source": [
    "#Check the Loan Status\n",
    "print(\"Loan Status:\\n\",df.loan_status.value_counts())\n",
    "\n",
    "df.loan_status.value_counts().plot.bar()\n",
    "plt.title('Loans Status')\n",
    "plt.xlabel('Class of Loan Status')\n",
    "plt.ylabel('Count')\n",
    "plt.show()"
   ]
  },
  {
   "cell_type": "code",
   "execution_count": 36,
   "metadata": {
    "colab": {
     "base_uri": "https://localhost:8080/",
     "height": 637
    },
    "id": "IJBYcXPggZ2l",
    "outputId": "37ad5639-961b-461f-ca7f-34cef209b88b"
   },
   "outputs": [
    {
     "name": "stdout",
     "output_type": "stream",
     "text": [
      "Diffrent Purposes of Loan \n",
      " debt_consolidation    1063714\n",
      "credit_card            412927\n",
      "home_improvement       123888\n",
      "other                  113619\n",
      "major_purchase          41760\n",
      "medical                 22584\n",
      "small_business          20519\n",
      "car                     20219\n",
      "vacation                13336\n",
      "moving                  13204\n",
      "house                   11108\n",
      "wedding                  2298\n",
      "renewable_energy         1261\n",
      "educational               327\n",
      "Name: purpose, dtype: int64\n"
     ]
    },
    {
     "data": {
      "image/png": "[encoded data removed]",
      "text/plain": [
       "<Figure size 1350x360 with 2 Axes>"
      ]
     },
     "metadata": {
      "needs_background": "light"
     },
     "output_type": "display_data"
    }
   ],
   "source": [
    "#plot the Purposes\n",
    "print(\"Diffrent Purposes of Loan\",\"\\n\",df.purpose.value_counts())\n",
    "plot_feature('purpose', False)"
   ]
  },
  {
   "cell_type": "markdown",
   "metadata": {
    "id": "uyXBr4ZpjGTh"
   },
   "source": [
    "From the above visualization it seems that, small business has highest probabilty of getting default."
   ]
  },
  {
   "cell_type": "code",
   "execution_count": 37,
   "metadata": {
    "colab": {
     "base_uri": "https://localhost:8080/"
    },
    "id": "lNyfQ230kBxJ",
    "outputId": "f89e5d9a-0f2e-4286-dd07-928fc99451b7"
   },
   "outputs": [
    {
     "data": {
      "text/plain": [
       "61685"
      ]
     },
     "execution_count": 37,
     "metadata": {},
     "output_type": "execute_result"
    }
   ],
   "source": [
    "#check the title columns.\n",
    "len(df.title.value_counts())"
   ]
  },
  {
   "cell_type": "code",
   "execution_count": 38,
   "metadata": {
    "id": "jF5OZOl7kK2e"
   },
   "outputs": [],
   "source": [
    "#Add the removeable features.\n",
    "removeable_features.extend(['Unnamed: 0','emp_title', 'id','url','title'])"
   ]
  },
  {
   "cell_type": "markdown",
   "metadata": {
    "id": "7i_21tN4k3v1"
   },
   "source": [
    "**21 - 40 features**"
   ]
  },
  {
   "cell_type": "code",
   "execution_count": 39,
   "metadata": {
    "colab": {
     "base_uri": "https://localhost:8080/",
     "height": 223
    },
    "id": "-SLjbmC6k7SQ",
    "outputId": "32c960a0-8494-4c62-cc90-f24f4a96a9f2"
   },
   "outputs": [
    {
     "data": {
      "text/html": [
       "<div>\n",
       "<style scoped>\n",
       "    .dataframe tbody tr th:only-of-type {\n",
       "        vertical-align: middle;\n",
       "    }\n",
       "\n",
       "    .dataframe tbody tr th {\n",
       "        vertical-align: top;\n",
       "    }\n",
       "\n",
       "    .dataframe thead th {\n",
       "        text-align: right;\n",
       "    }\n",
       "</style>\n",
       "<table border=\"1\" class=\"dataframe\">\n",
       "  <thead>\n",
       "    <tr style=\"text-align: right;\">\n",
       "      <th></th>\n",
       "      <th>zip_code</th>\n",
       "      <th>addr_state</th>\n",
       "      <th>dti</th>\n",
       "      <th>delinq_2yrs</th>\n",
       "      <th>earliest_cr_line</th>\n",
       "      <th>fico_range_low</th>\n",
       "      <th>fico_range_high</th>\n",
       "      <th>inq_last_6mths</th>\n",
       "      <th>open_acc</th>\n",
       "      <th>pub_rec</th>\n",
       "      <th>revol_bal</th>\n",
       "      <th>revol_util</th>\n",
       "      <th>total_acc</th>\n",
       "      <th>initial_list_status</th>\n",
       "      <th>out_prncp</th>\n",
       "      <th>out_prncp_inv</th>\n",
       "      <th>total_pymnt</th>\n",
       "      <th>total_pymnt_inv</th>\n",
       "      <th>total_rec_prncp</th>\n",
       "      <th>total_rec_int</th>\n",
       "    </tr>\n",
       "  </thead>\n",
       "  <tbody>\n",
       "    <tr>\n",
       "      <th>0</th>\n",
       "      <td>860xx</td>\n",
       "      <td>AZ</td>\n",
       "      <td>27.65</td>\n",
       "      <td>0.0</td>\n",
       "      <td>Jan-1985</td>\n",
       "      <td>735.0</td>\n",
       "      <td>739.0</td>\n",
       "      <td>1.0</td>\n",
       "      <td>3.0</td>\n",
       "      <td>0.0</td>\n",
       "      <td>13648.0</td>\n",
       "      <td>83.7%</td>\n",
       "      <td>9.0</td>\n",
       "      <td>f</td>\n",
       "      <td>0.0</td>\n",
       "      <td>0.0</td>\n",
       "      <td>5863.155187</td>\n",
       "      <td>5833.84</td>\n",
       "      <td>5000.00</td>\n",
       "      <td>863.16</td>\n",
       "    </tr>\n",
       "    <tr>\n",
       "      <th>1</th>\n",
       "      <td>309xx</td>\n",
       "      <td>GA</td>\n",
       "      <td>1.00</td>\n",
       "      <td>0.0</td>\n",
       "      <td>Apr-1999</td>\n",
       "      <td>740.0</td>\n",
       "      <td>744.0</td>\n",
       "      <td>5.0</td>\n",
       "      <td>3.0</td>\n",
       "      <td>0.0</td>\n",
       "      <td>1687.0</td>\n",
       "      <td>9.4%</td>\n",
       "      <td>4.0</td>\n",
       "      <td>f</td>\n",
       "      <td>0.0</td>\n",
       "      <td>0.0</td>\n",
       "      <td>1014.530000</td>\n",
       "      <td>1014.53</td>\n",
       "      <td>456.46</td>\n",
       "      <td>435.17</td>\n",
       "    </tr>\n",
       "    <tr>\n",
       "      <th>2</th>\n",
       "      <td>606xx</td>\n",
       "      <td>IL</td>\n",
       "      <td>8.72</td>\n",
       "      <td>0.0</td>\n",
       "      <td>Nov-2001</td>\n",
       "      <td>735.0</td>\n",
       "      <td>739.0</td>\n",
       "      <td>2.0</td>\n",
       "      <td>2.0</td>\n",
       "      <td>0.0</td>\n",
       "      <td>2956.0</td>\n",
       "      <td>98.5%</td>\n",
       "      <td>10.0</td>\n",
       "      <td>f</td>\n",
       "      <td>0.0</td>\n",
       "      <td>0.0</td>\n",
       "      <td>3005.666844</td>\n",
       "      <td>3005.67</td>\n",
       "      <td>2400.00</td>\n",
       "      <td>605.67</td>\n",
       "    </tr>\n",
       "    <tr>\n",
       "      <th>3</th>\n",
       "      <td>917xx</td>\n",
       "      <td>CA</td>\n",
       "      <td>20.00</td>\n",
       "      <td>0.0</td>\n",
       "      <td>Feb-1996</td>\n",
       "      <td>690.0</td>\n",
       "      <td>694.0</td>\n",
       "      <td>1.0</td>\n",
       "      <td>10.0</td>\n",
       "      <td>0.0</td>\n",
       "      <td>5598.0</td>\n",
       "      <td>21%</td>\n",
       "      <td>37.0</td>\n",
       "      <td>f</td>\n",
       "      <td>0.0</td>\n",
       "      <td>0.0</td>\n",
       "      <td>12231.890000</td>\n",
       "      <td>12231.89</td>\n",
       "      <td>10000.00</td>\n",
       "      <td>2214.92</td>\n",
       "    </tr>\n",
       "    <tr>\n",
       "      <th>4</th>\n",
       "      <td>972xx</td>\n",
       "      <td>OR</td>\n",
       "      <td>17.94</td>\n",
       "      <td>0.0</td>\n",
       "      <td>Jan-1996</td>\n",
       "      <td>695.0</td>\n",
       "      <td>699.0</td>\n",
       "      <td>0.0</td>\n",
       "      <td>15.0</td>\n",
       "      <td>0.0</td>\n",
       "      <td>27783.0</td>\n",
       "      <td>53.9%</td>\n",
       "      <td>38.0</td>\n",
       "      <td>f</td>\n",
       "      <td>0.0</td>\n",
       "      <td>0.0</td>\n",
       "      <td>4066.908161</td>\n",
       "      <td>4066.91</td>\n",
       "      <td>3000.00</td>\n",
       "      <td>1066.91</td>\n",
       "    </tr>\n",
       "  </tbody>\n",
       "</table>\n",
       "</div>"
      ],
      "text/plain": [
       "  zip_code addr_state    dti  delinq_2yrs earliest_cr_line  fico_range_low  \\\n",
       "0    860xx         AZ  27.65          0.0         Jan-1985           735.0   \n",
       "1    309xx         GA   1.00          0.0         Apr-1999           740.0   \n",
       "2    606xx         IL   8.72          0.0         Nov-2001           735.0   \n",
       "3    917xx         CA  20.00          0.0         Feb-1996           690.0   \n",
       "4    972xx         OR  17.94          0.0         Jan-1996           695.0   \n",
       "\n",
       "   fico_range_high  inq_last_6mths  open_acc  pub_rec  revol_bal revol_util  \\\n",
       "0            739.0             1.0       3.0      0.0    13648.0      83.7%   \n",
       "1            744.0             5.0       3.0      0.0     1687.0       9.4%   \n",
       "2            739.0             2.0       2.0      0.0     2956.0      98.5%   \n",
       "3            694.0             1.0      10.0      0.0     5598.0        21%   \n",
       "4            699.0             0.0      15.0      0.0    27783.0      53.9%   \n",
       "\n",
       "   total_acc initial_list_status  out_prncp  out_prncp_inv   total_pymnt  \\\n",
       "0        9.0                   f        0.0            0.0   5863.155187   \n",
       "1        4.0                   f        0.0            0.0   1014.530000   \n",
       "2       10.0                   f        0.0            0.0   3005.666844   \n",
       "3       37.0                   f        0.0            0.0  12231.890000   \n",
       "4       38.0                   f        0.0            0.0   4066.908161   \n",
       "\n",
       "   total_pymnt_inv  total_rec_prncp  total_rec_int  \n",
       "0          5833.84          5000.00         863.16  \n",
       "1          1014.53           456.46         435.17  \n",
       "2          3005.67          2400.00         605.67  \n",
       "3         12231.89         10000.00        2214.92  \n",
       "4          4066.91          3000.00        1066.91  "
      ]
     },
     "execution_count": 39,
     "metadata": {},
     "output_type": "execute_result"
    }
   ],
   "source": [
    "#Check the features from 20th number of column to 40th number of column\n",
    "df.iloc[0:5, 20: 40]"
   ]
  },
  {
   "cell_type": "code",
   "execution_count": 40,
   "metadata": {
    "colab": {
     "base_uri": "https://localhost:8080/"
    },
    "id": "tmJIXqmzkPQ_",
    "outputId": "62fae621-c4f2-4bb6-d7d6-b5a679b0bcf4"
   },
   "outputs": [
    {
     "data": {
      "text/plain": [
       "949"
      ]
     },
     "execution_count": 40,
     "metadata": {},
     "output_type": "execute_result"
    }
   ],
   "source": [
    "#Check the Zipcode\n",
    "len(df.zip_code.value_counts())"
   ]
  },
  {
   "cell_type": "code",
   "execution_count": 41,
   "metadata": {
    "colab": {
     "base_uri": "https://localhost:8080/",
     "height": 1000
    },
    "id": "TMT_eOIwkWNa",
    "outputId": "233b37a8-2ea4-48d0-b431-4a0c3756fdb3"
   },
   "outputs": [
    {
     "name": "stdout",
     "output_type": "stream",
     "text": [
      "Number of loan issued in different States\n",
      " CA    264525\n",
      "TX    152990\n",
      "NY    150911\n",
      "FL    133643\n",
      "IL     72623\n",
      "NJ     66982\n",
      "PA     62774\n",
      "OH     61150\n",
      "GA     60592\n",
      "NC     52062\n",
      "VA     51929\n",
      "MI     48661\n",
      "AZ     45521\n",
      "MD     43593\n",
      "MA     42719\n",
      "CO     40501\n",
      "WA     39944\n",
      "MN     32966\n",
      "IN     30728\n",
      "MO     29725\n",
      "TN     29092\n",
      "CT     28161\n",
      "NV     27866\n",
      "WI     24834\n",
      "AL     22802\n",
      "OR     22555\n",
      "SC     22489\n",
      "LA     21072\n",
      "KY     17917\n",
      "OK     16964\n",
      "KS     15489\n",
      "AR     14087\n",
      "UT     13463\n",
      "NM     10028\n",
      "MS      9932\n",
      "HI      9050\n",
      "NH      9049\n",
      "RI      8191\n",
      "WV      6551\n",
      "NE      6009\n",
      "DE      5264\n",
      "MT      5257\n",
      "DC      4549\n",
      "AK      4343\n",
      "WY      3984\n",
      "VT      3877\n",
      "SD      3773\n",
      "ME      3583\n",
      "ID      3313\n",
      "ND      2674\n",
      "IA         7\n",
      "Name: addr_state, dtype: int64\n"
     ]
    },
    {
     "data": {
      "image/png": "[encoded data removed]",
      "text/plain": [
       "<Figure size 1350x360 with 2 Axes>"
      ]
     },
     "metadata": {
      "needs_background": "light"
     },
     "output_type": "display_data"
    }
   ],
   "source": [
    "#Plot the state-wise loan distribution.\n",
    "print('Number of loan issued in different States\\n',df.addr_state.value_counts())\n",
    "plot_feature('addr_state', False)"
   ]
  },
  {
   "cell_type": "code",
   "execution_count": 42,
   "metadata": {
    "id": "kuGWQ5a4nNvz"
   },
   "outputs": [],
   "source": [
    "#Modify the earliest_cr_line features.\n",
    "df['earliest_cr_year'] = df.earliest_cr_line.str.replace(r'\\w+-', '').astype(np.int)"
   ]
  },
  {
   "cell_type": "code",
   "execution_count": 43,
   "metadata": {
    "id": "T9tkJOgtnoOE"
   },
   "outputs": [],
   "source": [
    "#Modify the revol_util\n",
    "df.revol_util = df.revol_util.astype(str).str.replace('%', '').astype(np.float32)"
   ]
  },
  {
   "cell_type": "code",
   "execution_count": 44,
   "metadata": {
    "colab": {
     "base_uri": "https://localhost:8080/"
    },
    "id": "TFHWn-cNn-AT",
    "outputId": "20b55dc5-4f84-41af-99a3-3e0adc5458b3"
   },
   "outputs": [
    {
     "name": "stdout",
     "output_type": "stream",
     "text": [
      "Number of Initial List:\n",
      " w    1195246\n",
      "f     665518\n",
      "Name: initial_list_status, dtype: int64\n"
     ]
    }
   ],
   "source": [
    "#Check the initial List feature\n",
    "print(\"Number of Initial List:\\n\",df.initial_list_status.value_counts())"
   ]
  },
  {
   "cell_type": "code",
   "execution_count": 45,
   "metadata": {
    "id": "HT172hfKn-Or"
   },
   "outputs": [],
   "source": [
    "#Adding some removeable features.\n",
    "removeable_features.extend(['zip_code', 'inq_last_6mths', 'total_pymnt', 'total_pymnt_inv', 'total_rec_prncp', 'total_rec_int', 'total_rec_late_fee'])"
   ]
  },
  {
   "cell_type": "code",
   "execution_count": 46,
   "metadata": {
    "colab": {
     "base_uri": "https://localhost:8080/",
     "height": 223
    },
    "id": "fs5aPOJ4n-Se",
    "outputId": "c3cdcf68-8425-4c0d-de95-6a2807d989c6"
   },
   "outputs": [
    {
     "data": {
      "text/html": [
       "<div>\n",
       "<style scoped>\n",
       "    .dataframe tbody tr th:only-of-type {\n",
       "        vertical-align: middle;\n",
       "    }\n",
       "\n",
       "    .dataframe tbody tr th {\n",
       "        vertical-align: top;\n",
       "    }\n",
       "\n",
       "    .dataframe thead th {\n",
       "        text-align: right;\n",
       "    }\n",
       "</style>\n",
       "<table border=\"1\" class=\"dataframe\">\n",
       "  <thead>\n",
       "    <tr style=\"text-align: right;\">\n",
       "      <th></th>\n",
       "      <th>recoveries</th>\n",
       "      <th>collection_recovery_fee</th>\n",
       "      <th>last_pymnt_d</th>\n",
       "      <th>last_pymnt_amnt</th>\n",
       "      <th>last_credit_pull_d</th>\n",
       "      <th>last_fico_range_high</th>\n",
       "      <th>last_fico_range_low</th>\n",
       "      <th>collections_12_mths_ex_med</th>\n",
       "      <th>application_type</th>\n",
       "      <th>acc_now_delinq</th>\n",
       "      <th>tot_coll_amt</th>\n",
       "      <th>tot_cur_bal</th>\n",
       "      <th>open_acc_6m</th>\n",
       "      <th>open_act_il</th>\n",
       "      <th>open_il_12m</th>\n",
       "      <th>open_il_24m</th>\n",
       "      <th>mths_since_rcnt_il</th>\n",
       "      <th>total_bal_il</th>\n",
       "      <th>open_rv_12m</th>\n",
       "    </tr>\n",
       "  </thead>\n",
       "  <tbody>\n",
       "    <tr>\n",
       "      <th>0</th>\n",
       "      <td>0.0</td>\n",
       "      <td>0.00</td>\n",
       "      <td>Jan-2015</td>\n",
       "      <td>171.62</td>\n",
       "      <td>May-2020</td>\n",
       "      <td>704.0</td>\n",
       "      <td>700.0</td>\n",
       "      <td>0.0</td>\n",
       "      <td>Individual</td>\n",
       "      <td>0.0</td>\n",
       "      <td>NaN</td>\n",
       "      <td>NaN</td>\n",
       "      <td>NaN</td>\n",
       "      <td>NaN</td>\n",
       "      <td>NaN</td>\n",
       "      <td>NaN</td>\n",
       "      <td>NaN</td>\n",
       "      <td>NaN</td>\n",
       "      <td>NaN</td>\n",
       "    </tr>\n",
       "    <tr>\n",
       "      <th>1</th>\n",
       "      <td>122.9</td>\n",
       "      <td>1.11</td>\n",
       "      <td>Apr-2013</td>\n",
       "      <td>119.66</td>\n",
       "      <td>Oct-2016</td>\n",
       "      <td>499.0</td>\n",
       "      <td>0.0</td>\n",
       "      <td>0.0</td>\n",
       "      <td>Individual</td>\n",
       "      <td>0.0</td>\n",
       "      <td>NaN</td>\n",
       "      <td>NaN</td>\n",
       "      <td>NaN</td>\n",
       "      <td>NaN</td>\n",
       "      <td>NaN</td>\n",
       "      <td>NaN</td>\n",
       "      <td>NaN</td>\n",
       "      <td>NaN</td>\n",
       "      <td>NaN</td>\n",
       "    </tr>\n",
       "    <tr>\n",
       "      <th>2</th>\n",
       "      <td>0.0</td>\n",
       "      <td>0.00</td>\n",
       "      <td>Jun-2014</td>\n",
       "      <td>649.91</td>\n",
       "      <td>Jun-2017</td>\n",
       "      <td>739.0</td>\n",
       "      <td>735.0</td>\n",
       "      <td>0.0</td>\n",
       "      <td>Individual</td>\n",
       "      <td>0.0</td>\n",
       "      <td>NaN</td>\n",
       "      <td>NaN</td>\n",
       "      <td>NaN</td>\n",
       "      <td>NaN</td>\n",
       "      <td>NaN</td>\n",
       "      <td>NaN</td>\n",
       "      <td>NaN</td>\n",
       "      <td>NaN</td>\n",
       "      <td>NaN</td>\n",
       "    </tr>\n",
       "    <tr>\n",
       "      <th>3</th>\n",
       "      <td>0.0</td>\n",
       "      <td>0.00</td>\n",
       "      <td>Jan-2015</td>\n",
       "      <td>357.48</td>\n",
       "      <td>Apr-2016</td>\n",
       "      <td>604.0</td>\n",
       "      <td>600.0</td>\n",
       "      <td>0.0</td>\n",
       "      <td>Individual</td>\n",
       "      <td>0.0</td>\n",
       "      <td>NaN</td>\n",
       "      <td>NaN</td>\n",
       "      <td>NaN</td>\n",
       "      <td>NaN</td>\n",
       "      <td>NaN</td>\n",
       "      <td>NaN</td>\n",
       "      <td>NaN</td>\n",
       "      <td>NaN</td>\n",
       "      <td>NaN</td>\n",
       "    </tr>\n",
       "    <tr>\n",
       "      <th>4</th>\n",
       "      <td>0.0</td>\n",
       "      <td>0.00</td>\n",
       "      <td>Jan-2017</td>\n",
       "      <td>67.30</td>\n",
       "      <td>Apr-2018</td>\n",
       "      <td>684.0</td>\n",
       "      <td>680.0</td>\n",
       "      <td>0.0</td>\n",
       "      <td>Individual</td>\n",
       "      <td>0.0</td>\n",
       "      <td>NaN</td>\n",
       "      <td>NaN</td>\n",
       "      <td>NaN</td>\n",
       "      <td>NaN</td>\n",
       "      <td>NaN</td>\n",
       "      <td>NaN</td>\n",
       "      <td>NaN</td>\n",
       "      <td>NaN</td>\n",
       "      <td>NaN</td>\n",
       "    </tr>\n",
       "  </tbody>\n",
       "</table>\n",
       "</div>"
      ],
      "text/plain": [
       "   recoveries  collection_recovery_fee last_pymnt_d  last_pymnt_amnt  \\\n",
       "0         0.0                     0.00     Jan-2015           171.62   \n",
       "1       122.9                     1.11     Apr-2013           119.66   \n",
       "2         0.0                     0.00     Jun-2014           649.91   \n",
       "3         0.0                     0.00     Jan-2015           357.48   \n",
       "4         0.0                     0.00     Jan-2017            67.30   \n",
       "\n",
       "  last_credit_pull_d  last_fico_range_high  last_fico_range_low  \\\n",
       "0           May-2020                 704.0                700.0   \n",
       "1           Oct-2016                 499.0                  0.0   \n",
       "2           Jun-2017                 739.0                735.0   \n",
       "3           Apr-2016                 604.0                600.0   \n",
       "4           Apr-2018                 684.0                680.0   \n",
       "\n",
       "   collections_12_mths_ex_med application_type  acc_now_delinq  tot_coll_amt  \\\n",
       "0                         0.0       Individual             0.0           NaN   \n",
       "1                         0.0       Individual             0.0           NaN   \n",
       "2                         0.0       Individual             0.0           NaN   \n",
       "3                         0.0       Individual             0.0           NaN   \n",
       "4                         0.0       Individual             0.0           NaN   \n",
       "\n",
       "   tot_cur_bal  open_acc_6m  open_act_il  open_il_12m  open_il_24m  \\\n",
       "0          NaN          NaN          NaN          NaN          NaN   \n",
       "1          NaN          NaN          NaN          NaN          NaN   \n",
       "2          NaN          NaN          NaN          NaN          NaN   \n",
       "3          NaN          NaN          NaN          NaN          NaN   \n",
       "4          NaN          NaN          NaN          NaN          NaN   \n",
       "\n",
       "   mths_since_rcnt_il  total_bal_il  open_rv_12m  \n",
       "0                 NaN           NaN          NaN  \n",
       "1                 NaN           NaN          NaN  \n",
       "2                 NaN           NaN          NaN  \n",
       "3                 NaN           NaN          NaN  \n",
       "4                 NaN           NaN          NaN  "
      ]
     },
     "execution_count": 46,
     "metadata": {},
     "output_type": "execute_result"
    }
   ],
   "source": [
    "#Check the features from 40th number of column to 60th number of column\n",
    "df.iloc[0:5, 41: 60]"
   ]
  },
  {
   "cell_type": "code",
   "execution_count": 47,
   "metadata": {
    "colab": {
     "base_uri": "https://localhost:8080/",
     "height": 368
    },
    "id": "lph9LF0En-Z0",
    "outputId": "a3dbae18-9cd8-4a2b-dff3-f16ba940b481"
   },
   "outputs": [
    {
     "data": {
      "image/png": "[encoded data removed]",
      "text/plain": [
       "<Figure size 1350x360 with 2 Axes>"
      ]
     },
     "metadata": {
      "needs_background": "light"
     },
     "output_type": "display_data"
    }
   ],
   "source": [
    "#Plot the application type column.\n",
    "df.application_type.value_counts()\n",
    "plot_feature('application_type',False)"
   ]
  },
  {
   "cell_type": "code",
   "execution_count": 48,
   "metadata": {
    "id": "GoUQR4Ozn-gZ"
   },
   "outputs": [],
   "source": [
    "#add some unnecessary features to the remove_features list.\n",
    "removeable_features.extend(['recoveries', 'collection_recovery_fee', 'last_pymnt_d', 'last_pymnt_amnt', 'last_credit_pull_d', 'last_fico_range_high', 'last_fico_range_low', 'collections_12_mths_ex_med', 'acc_now_delinq', 'tot_coll_amt', 'tot_cur_bal'])"
   ]
  },
  {
   "cell_type": "code",
   "execution_count": 49,
   "metadata": {
    "colab": {
     "base_uri": "https://localhost:8080/",
     "height": 223
    },
    "id": "m_CXec9fnZZ2",
    "outputId": "31c2b089-ff06-4bb6-8abe-cecd5373d93b"
   },
   "outputs": [
    {
     "data": {
      "text/html": [
       "<div>\n",
       "<style scoped>\n",
       "    .dataframe tbody tr th:only-of-type {\n",
       "        vertical-align: middle;\n",
       "    }\n",
       "\n",
       "    .dataframe tbody tr th {\n",
       "        vertical-align: top;\n",
       "    }\n",
       "\n",
       "    .dataframe thead th {\n",
       "        text-align: right;\n",
       "    }\n",
       "</style>\n",
       "<table border=\"1\" class=\"dataframe\">\n",
       "  <thead>\n",
       "    <tr style=\"text-align: right;\">\n",
       "      <th></th>\n",
       "      <th>max_bal_bc</th>\n",
       "      <th>all_util</th>\n",
       "      <th>total_rev_hi_lim</th>\n",
       "      <th>inq_fi</th>\n",
       "      <th>total_cu_tl</th>\n",
       "      <th>inq_last_12m</th>\n",
       "      <th>acc_open_past_24mths</th>\n",
       "      <th>avg_cur_bal</th>\n",
       "      <th>bc_open_to_buy</th>\n",
       "      <th>bc_util</th>\n",
       "      <th>chargeoff_within_12_mths</th>\n",
       "      <th>delinq_amnt</th>\n",
       "      <th>mo_sin_old_il_acct</th>\n",
       "      <th>mo_sin_old_rev_tl_op</th>\n",
       "      <th>mo_sin_rcnt_rev_tl_op</th>\n",
       "      <th>mo_sin_rcnt_tl</th>\n",
       "      <th>mort_acc</th>\n",
       "      <th>mths_since_recent_bc</th>\n",
       "      <th>mths_since_recent_inq</th>\n",
       "    </tr>\n",
       "  </thead>\n",
       "  <tbody>\n",
       "    <tr>\n",
       "      <th>0</th>\n",
       "      <td>NaN</td>\n",
       "      <td>NaN</td>\n",
       "      <td>NaN</td>\n",
       "      <td>NaN</td>\n",
       "      <td>NaN</td>\n",
       "      <td>NaN</td>\n",
       "      <td>NaN</td>\n",
       "      <td>NaN</td>\n",
       "      <td>NaN</td>\n",
       "      <td>NaN</td>\n",
       "      <td>0.0</td>\n",
       "      <td>0.0</td>\n",
       "      <td>NaN</td>\n",
       "      <td>NaN</td>\n",
       "      <td>NaN</td>\n",
       "      <td>NaN</td>\n",
       "      <td>NaN</td>\n",
       "      <td>NaN</td>\n",
       "      <td>NaN</td>\n",
       "    </tr>\n",
       "    <tr>\n",
       "      <th>1</th>\n",
       "      <td>NaN</td>\n",
       "      <td>NaN</td>\n",
       "      <td>NaN</td>\n",
       "      <td>NaN</td>\n",
       "      <td>NaN</td>\n",
       "      <td>NaN</td>\n",
       "      <td>NaN</td>\n",
       "      <td>NaN</td>\n",
       "      <td>NaN</td>\n",
       "      <td>NaN</td>\n",
       "      <td>0.0</td>\n",
       "      <td>0.0</td>\n",
       "      <td>NaN</td>\n",
       "      <td>NaN</td>\n",
       "      <td>NaN</td>\n",
       "      <td>NaN</td>\n",
       "      <td>NaN</td>\n",
       "      <td>NaN</td>\n",
       "      <td>NaN</td>\n",
       "    </tr>\n",
       "    <tr>\n",
       "      <th>2</th>\n",
       "      <td>NaN</td>\n",
       "      <td>NaN</td>\n",
       "      <td>NaN</td>\n",
       "      <td>NaN</td>\n",
       "      <td>NaN</td>\n",
       "      <td>NaN</td>\n",
       "      <td>NaN</td>\n",
       "      <td>NaN</td>\n",
       "      <td>NaN</td>\n",
       "      <td>NaN</td>\n",
       "      <td>0.0</td>\n",
       "      <td>0.0</td>\n",
       "      <td>NaN</td>\n",
       "      <td>NaN</td>\n",
       "      <td>NaN</td>\n",
       "      <td>NaN</td>\n",
       "      <td>NaN</td>\n",
       "      <td>NaN</td>\n",
       "      <td>NaN</td>\n",
       "    </tr>\n",
       "    <tr>\n",
       "      <th>3</th>\n",
       "      <td>NaN</td>\n",
       "      <td>NaN</td>\n",
       "      <td>NaN</td>\n",
       "      <td>NaN</td>\n",
       "      <td>NaN</td>\n",
       "      <td>NaN</td>\n",
       "      <td>NaN</td>\n",
       "      <td>NaN</td>\n",
       "      <td>NaN</td>\n",
       "      <td>NaN</td>\n",
       "      <td>0.0</td>\n",
       "      <td>0.0</td>\n",
       "      <td>NaN</td>\n",
       "      <td>NaN</td>\n",
       "      <td>NaN</td>\n",
       "      <td>NaN</td>\n",
       "      <td>NaN</td>\n",
       "      <td>NaN</td>\n",
       "      <td>NaN</td>\n",
       "    </tr>\n",
       "    <tr>\n",
       "      <th>4</th>\n",
       "      <td>NaN</td>\n",
       "      <td>NaN</td>\n",
       "      <td>NaN</td>\n",
       "      <td>NaN</td>\n",
       "      <td>NaN</td>\n",
       "      <td>NaN</td>\n",
       "      <td>NaN</td>\n",
       "      <td>NaN</td>\n",
       "      <td>NaN</td>\n",
       "      <td>NaN</td>\n",
       "      <td>0.0</td>\n",
       "      <td>0.0</td>\n",
       "      <td>NaN</td>\n",
       "      <td>NaN</td>\n",
       "      <td>NaN</td>\n",
       "      <td>NaN</td>\n",
       "      <td>NaN</td>\n",
       "      <td>NaN</td>\n",
       "      <td>NaN</td>\n",
       "    </tr>\n",
       "  </tbody>\n",
       "</table>\n",
       "</div>"
      ],
      "text/plain": [
       "   max_bal_bc  all_util  total_rev_hi_lim  inq_fi  total_cu_tl  inq_last_12m  \\\n",
       "0         NaN       NaN               NaN     NaN          NaN           NaN   \n",
       "1         NaN       NaN               NaN     NaN          NaN           NaN   \n",
       "2         NaN       NaN               NaN     NaN          NaN           NaN   \n",
       "3         NaN       NaN               NaN     NaN          NaN           NaN   \n",
       "4         NaN       NaN               NaN     NaN          NaN           NaN   \n",
       "\n",
       "   acc_open_past_24mths  avg_cur_bal  bc_open_to_buy  bc_util  \\\n",
       "0                   NaN          NaN             NaN      NaN   \n",
       "1                   NaN          NaN             NaN      NaN   \n",
       "2                   NaN          NaN             NaN      NaN   \n",
       "3                   NaN          NaN             NaN      NaN   \n",
       "4                   NaN          NaN             NaN      NaN   \n",
       "\n",
       "   chargeoff_within_12_mths  delinq_amnt  mo_sin_old_il_acct  \\\n",
       "0                       0.0          0.0                 NaN   \n",
       "1                       0.0          0.0                 NaN   \n",
       "2                       0.0          0.0                 NaN   \n",
       "3                       0.0          0.0                 NaN   \n",
       "4                       0.0          0.0                 NaN   \n",
       "\n",
       "   mo_sin_old_rev_tl_op  mo_sin_rcnt_rev_tl_op  mo_sin_rcnt_tl  mort_acc  \\\n",
       "0                   NaN                    NaN             NaN       NaN   \n",
       "1                   NaN                    NaN             NaN       NaN   \n",
       "2                   NaN                    NaN             NaN       NaN   \n",
       "3                   NaN                    NaN             NaN       NaN   \n",
       "4                   NaN                    NaN             NaN       NaN   \n",
       "\n",
       "   mths_since_recent_bc  mths_since_recent_inq  \n",
       "0                   NaN                    NaN  \n",
       "1                   NaN                    NaN  \n",
       "2                   NaN                    NaN  \n",
       "3                   NaN                    NaN  \n",
       "4                   NaN                    NaN  "
      ]
     },
     "execution_count": 49,
     "metadata": {},
     "output_type": "execute_result"
    }
   ],
   "source": [
    "#Check the features from 61th number of column to 80th number of column\n",
    "df.iloc[0:5, 61: 80]"
   ]
  },
  {
   "cell_type": "code",
   "execution_count": 50,
   "metadata": {
    "colab": {
     "base_uri": "https://localhost:8080/",
     "height": 391
    },
    "id": "ORd4b26D37VN",
    "outputId": "4b1da5e9-e7dc-4736-c84a-f2c0ce0b2040"
   },
   "outputs": [
    {
     "data": {
      "text/html": [
       "<div>\n",
       "<style scoped>\n",
       "    .dataframe tbody tr th:only-of-type {\n",
       "        vertical-align: middle;\n",
       "    }\n",
       "\n",
       "    .dataframe tbody tr th {\n",
       "        vertical-align: top;\n",
       "    }\n",
       "\n",
       "    .dataframe thead th {\n",
       "        text-align: right;\n",
       "    }\n",
       "</style>\n",
       "<table border=\"1\" class=\"dataframe\">\n",
       "  <thead>\n",
       "    <tr style=\"text-align: right;\">\n",
       "      <th></th>\n",
       "      <th>num_actv_bc_tl</th>\n",
       "      <th>num_actv_rev_tl</th>\n",
       "      <th>num_bc_sats</th>\n",
       "      <th>num_bc_tl</th>\n",
       "      <th>num_il_tl</th>\n",
       "      <th>num_op_rev_tl</th>\n",
       "      <th>num_rev_accts</th>\n",
       "      <th>num_rev_tl_bal_gt_0</th>\n",
       "      <th>num_sats</th>\n",
       "      <th>num_tl_120dpd_2m</th>\n",
       "      <th>...</th>\n",
       "      <th>tot_hi_cred_lim</th>\n",
       "      <th>total_bal_ex_mort</th>\n",
       "      <th>total_bc_limit</th>\n",
       "      <th>total_il_high_credit_limit</th>\n",
       "      <th>hardship_flag</th>\n",
       "      <th>debt_settlement_flag</th>\n",
       "      <th>Date</th>\n",
       "      <th>issue_month</th>\n",
       "      <th>issue_year</th>\n",
       "      <th>earliest_cr_year</th>\n",
       "    </tr>\n",
       "  </thead>\n",
       "  <tbody>\n",
       "    <tr>\n",
       "      <th>0</th>\n",
       "      <td>NaN</td>\n",
       "      <td>NaN</td>\n",
       "      <td>NaN</td>\n",
       "      <td>NaN</td>\n",
       "      <td>NaN</td>\n",
       "      <td>NaN</td>\n",
       "      <td>NaN</td>\n",
       "      <td>NaN</td>\n",
       "      <td>NaN</td>\n",
       "      <td>NaN</td>\n",
       "      <td>...</td>\n",
       "      <td>NaN</td>\n",
       "      <td>NaN</td>\n",
       "      <td>NaN</td>\n",
       "      <td>NaN</td>\n",
       "      <td>N</td>\n",
       "      <td>N</td>\n",
       "      <td>2011-12-01</td>\n",
       "      <td>Dec</td>\n",
       "      <td>2011</td>\n",
       "      <td>1985</td>\n",
       "    </tr>\n",
       "    <tr>\n",
       "      <th>1</th>\n",
       "      <td>NaN</td>\n",
       "      <td>NaN</td>\n",
       "      <td>NaN</td>\n",
       "      <td>NaN</td>\n",
       "      <td>NaN</td>\n",
       "      <td>NaN</td>\n",
       "      <td>NaN</td>\n",
       "      <td>NaN</td>\n",
       "      <td>NaN</td>\n",
       "      <td>NaN</td>\n",
       "      <td>...</td>\n",
       "      <td>NaN</td>\n",
       "      <td>NaN</td>\n",
       "      <td>NaN</td>\n",
       "      <td>NaN</td>\n",
       "      <td>N</td>\n",
       "      <td>N</td>\n",
       "      <td>2011-12-01</td>\n",
       "      <td>Dec</td>\n",
       "      <td>2011</td>\n",
       "      <td>1999</td>\n",
       "    </tr>\n",
       "    <tr>\n",
       "      <th>2</th>\n",
       "      <td>NaN</td>\n",
       "      <td>NaN</td>\n",
       "      <td>NaN</td>\n",
       "      <td>NaN</td>\n",
       "      <td>NaN</td>\n",
       "      <td>NaN</td>\n",
       "      <td>NaN</td>\n",
       "      <td>NaN</td>\n",
       "      <td>NaN</td>\n",
       "      <td>NaN</td>\n",
       "      <td>...</td>\n",
       "      <td>NaN</td>\n",
       "      <td>NaN</td>\n",
       "      <td>NaN</td>\n",
       "      <td>NaN</td>\n",
       "      <td>N</td>\n",
       "      <td>N</td>\n",
       "      <td>2011-12-01</td>\n",
       "      <td>Dec</td>\n",
       "      <td>2011</td>\n",
       "      <td>2001</td>\n",
       "    </tr>\n",
       "    <tr>\n",
       "      <th>3</th>\n",
       "      <td>NaN</td>\n",
       "      <td>NaN</td>\n",
       "      <td>NaN</td>\n",
       "      <td>NaN</td>\n",
       "      <td>NaN</td>\n",
       "      <td>NaN</td>\n",
       "      <td>NaN</td>\n",
       "      <td>NaN</td>\n",
       "      <td>NaN</td>\n",
       "      <td>NaN</td>\n",
       "      <td>...</td>\n",
       "      <td>NaN</td>\n",
       "      <td>NaN</td>\n",
       "      <td>NaN</td>\n",
       "      <td>NaN</td>\n",
       "      <td>N</td>\n",
       "      <td>N</td>\n",
       "      <td>2011-12-01</td>\n",
       "      <td>Dec</td>\n",
       "      <td>2011</td>\n",
       "      <td>1996</td>\n",
       "    </tr>\n",
       "    <tr>\n",
       "      <th>4</th>\n",
       "      <td>NaN</td>\n",
       "      <td>NaN</td>\n",
       "      <td>NaN</td>\n",
       "      <td>NaN</td>\n",
       "      <td>NaN</td>\n",
       "      <td>NaN</td>\n",
       "      <td>NaN</td>\n",
       "      <td>NaN</td>\n",
       "      <td>NaN</td>\n",
       "      <td>NaN</td>\n",
       "      <td>...</td>\n",
       "      <td>NaN</td>\n",
       "      <td>NaN</td>\n",
       "      <td>NaN</td>\n",
       "      <td>NaN</td>\n",
       "      <td>N</td>\n",
       "      <td>N</td>\n",
       "      <td>2011-12-01</td>\n",
       "      <td>Dec</td>\n",
       "      <td>2011</td>\n",
       "      <td>1996</td>\n",
       "    </tr>\n",
       "  </tbody>\n",
       "</table>\n",
       "<p>5 rows × 27 columns</p>\n",
       "</div>"
      ],
      "text/plain": [
       "   num_actv_bc_tl  num_actv_rev_tl  num_bc_sats  num_bc_tl  num_il_tl  \\\n",
       "0             NaN              NaN          NaN        NaN        NaN   \n",
       "1             NaN              NaN          NaN        NaN        NaN   \n",
       "2             NaN              NaN          NaN        NaN        NaN   \n",
       "3             NaN              NaN          NaN        NaN        NaN   \n",
       "4             NaN              NaN          NaN        NaN        NaN   \n",
       "\n",
       "   num_op_rev_tl  num_rev_accts  num_rev_tl_bal_gt_0  num_sats  \\\n",
       "0            NaN            NaN                  NaN       NaN   \n",
       "1            NaN            NaN                  NaN       NaN   \n",
       "2            NaN            NaN                  NaN       NaN   \n",
       "3            NaN            NaN                  NaN       NaN   \n",
       "4            NaN            NaN                  NaN       NaN   \n",
       "\n",
       "   num_tl_120dpd_2m  ...  tot_hi_cred_lim  total_bal_ex_mort  total_bc_limit  \\\n",
       "0               NaN  ...              NaN                NaN             NaN   \n",
       "1               NaN  ...              NaN                NaN             NaN   \n",
       "2               NaN  ...              NaN                NaN             NaN   \n",
       "3               NaN  ...              NaN                NaN             NaN   \n",
       "4               NaN  ...              NaN                NaN             NaN   \n",
       "\n",
       "   total_il_high_credit_limit  hardship_flag  debt_settlement_flag       Date  \\\n",
       "0                         NaN              N                     N 2011-12-01   \n",
       "1                         NaN              N                     N 2011-12-01   \n",
       "2                         NaN              N                     N 2011-12-01   \n",
       "3                         NaN              N                     N 2011-12-01   \n",
       "4                         NaN              N                     N 2011-12-01   \n",
       "\n",
       "   issue_month  issue_year  earliest_cr_year  \n",
       "0          Dec        2011              1985  \n",
       "1          Dec        2011              1999  \n",
       "2          Dec        2011              2001  \n",
       "3          Dec        2011              1996  \n",
       "4          Dec        2011              1996  \n",
       "\n",
       "[5 rows x 27 columns]"
      ]
     },
     "execution_count": 50,
     "metadata": {},
     "output_type": "execute_result"
    }
   ],
   "source": [
    "#Check the features afetr 80th column\n",
    "df.iloc[0:5, 81:]"
   ]
  },
  {
   "cell_type": "code",
   "execution_count": 51,
   "metadata": {
    "colab": {
     "base_uri": "https://localhost:8080/",
     "height": 586
    },
    "id": "xitTTOvvDg5q",
    "outputId": "0fa8fb0a-114f-40ec-ccc0-10629df1b22e"
   },
   "outputs": [
    {
     "name": "stdout",
     "output_type": "stream",
     "text": [
      "0.0     1629217\n",
      "1.0      218397\n",
      "2.0        9725\n",
      "3.0        1953\n",
      "4.0         505\n",
      "5.0         177\n",
      "6.0          58\n",
      "7.0          21\n",
      "8.0           9\n",
      "9.0           3\n",
      "12.0          1\n",
      "11.0          1\n",
      "Name: pub_rec_bankruptcies, dtype: int64\n"
     ]
    },
    {
     "data": {
      "image/png": "[encoded data removed]",
      "text/plain": [
       "<Figure size 1350x360 with 2 Axes>"
      ]
     },
     "metadata": {
      "needs_background": "light"
     },
     "output_type": "display_data"
    }
   ],
   "source": [
    "#Checking the pub_rec_bankruptcies column.\n",
    "print(df.pub_rec_bankruptcies.value_counts())\n",
    "plot_feature(\"pub_rec_bankruptcies\", False)"
   ]
  },
  {
   "cell_type": "code",
   "execution_count": 52,
   "metadata": {
    "id": "PzUhtLDKDWlh"
   },
   "outputs": [
    {
     "data": {
      "image/png": "[encoded data removed]",
      "text/plain": [
       "<Figure size 1350x360 with 2 Axes>"
      ]
     },
     "metadata": {
      "needs_background": "light"
     },
     "output_type": "display_data"
    }
   ],
   "source": [
    "#modify the pub_rec_bankruptcies ito binary and plot it.\n",
    "df['pub_rec_bankruptcies'] = np.where(df['pub_rec_bankruptcies']>0, 1, 0)\n",
    "plot_feature(\"pub_rec_bankruptcies\", False)"
   ]
  },
  {
   "cell_type": "code",
   "execution_count": 53,
   "metadata": {
    "colab": {
     "base_uri": "https://localhost:8080/",
     "height": 418
    },
    "id": "wOJDiYTcp-pY",
    "outputId": "8d81fa99-eb26-4ce5-a65c-315938e9e19b"
   },
   "outputs": [
    {
     "name": "stdout",
     "output_type": "stream",
     "text": [
      "Number of Debt Settlement:\n",
      " N    1809589\n",
      "Y      51175\n",
      "Name: debt_settlement_flag, dtype: int64\n"
     ]
    },
    {
     "data": {
      "image/png": "[encoded data removed]",
      "text/plain": [
       "<Figure size 1350x360 with 2 Axes>"
      ]
     },
     "metadata": {
      "needs_background": "light"
     },
     "output_type": "display_data"
    }
   ],
   "source": [
    "#Check the debt_settlement column.\n",
    "print('Number of Debt Settlement:\\n',df.debt_settlement_flag.value_counts())\n",
    "plot_feature('debt_settlement_flag', False )"
   ]
  },
  {
   "cell_type": "code",
   "execution_count": 54,
   "metadata": {
    "id": "qPYxtF8opktv"
   },
   "outputs": [],
   "source": [
    "#Adding some unrequired features to the removeable_features.\n",
    "removeable_features.extend(['num_actv_bc_tl', 'num_actv_rev_tl', 'num_bc_sats', 'num_bc_tl', 'num_il_tl', 'num_op_rev_tl', 'num_rev_accts', 'num_rev_tl_bal_gt_0', 'num_sats', 'num_tl_120dpd_2m','mo_sin_old_il_acct', 'mo_sin_old_rev_tl_op', 'mo_sin_rcnt_rev_tl_op', 'mo_sin_rcnt_tl', 'mths_since_recent_bc', 'mths_since_recent_inq', 'num_accts_ever_120_pd','num_tl_30dpd', 'num_tl_90g_dpd_24m', 'num_tl_op_past_12m', 'pct_tl_nvr_dlq', 'percent_bc_gt_75', 'tot_hi_cred_lim', 'total_bal_ex_mort', 'total_bc_limit', 'total_il_high_credit_limit'])"
   ]
  },
  {
   "cell_type": "code",
   "execution_count": 55,
   "metadata": {
    "colab": {
     "base_uri": "https://localhost:8080/"
    },
    "id": "8MA9XcyM5kLZ",
    "outputId": "573fba65-5de2-41c8-df78-39ebca1bccec"
   },
   "outputs": [
    {
     "data": {
      "text/plain": [
       "49"
      ]
     },
     "execution_count": 55,
     "metadata": {},
     "output_type": "execute_result"
    }
   ],
   "source": [
    "#Checking the removeable_features length.\n",
    "len(set(removeable_features))"
   ]
  },
  {
   "cell_type": "code",
   "execution_count": 56,
   "metadata": {
    "id": "I8trZoWAqcN_"
   },
   "outputs": [],
   "source": [
    "#Drop the removeable features from the dataset.\n",
    "df_new = df.drop(list(set(removeable_features)), axis = 1)"
   ]
  },
  {
   "cell_type": "code",
   "execution_count": 57,
   "metadata": {
    "colab": {
     "base_uri": "https://localhost:8080/"
    },
    "id": "GNN26A1wq7ID",
    "outputId": "a1227205-7075-4e11-dd75-9f00d3082936"
   },
   "outputs": [
    {
     "data": {
      "text/plain": [
       "(1860764, 59)"
      ]
     },
     "execution_count": 57,
     "metadata": {},
     "output_type": "execute_result"
    }
   ],
   "source": [
    "#Check the shape of data\n",
    "df_new.shape"
   ]
  },
  {
   "cell_type": "code",
   "execution_count": 58,
   "metadata": {
    "colab": {
     "base_uri": "https://localhost:8080/",
     "height": 1000
    },
    "id": "bYvFn0xzuBND",
    "outputId": "037c58c8-7754-4bac-a930-797c24a3d75b"
   },
   "outputs": [
    {
     "data": {
      "text/html": [
       "<div>\n",
       "<style scoped>\n",
       "    .dataframe tbody tr th:only-of-type {\n",
       "        vertical-align: middle;\n",
       "    }\n",
       "\n",
       "    .dataframe tbody tr th {\n",
       "        vertical-align: top;\n",
       "    }\n",
       "\n",
       "    .dataframe thead th {\n",
       "        text-align: right;\n",
       "    }\n",
       "</style>\n",
       "<table border=\"1\" class=\"dataframe\">\n",
       "  <thead>\n",
       "    <tr style=\"text-align: right;\">\n",
       "      <th></th>\n",
       "      <th>index</th>\n",
       "      <th>missing_value</th>\n",
       "      <th>feature_type</th>\n",
       "    </tr>\n",
       "  </thead>\n",
       "  <tbody>\n",
       "    <tr>\n",
       "      <th>9</th>\n",
       "      <td>issue_year</td>\n",
       "      <td>0</td>\n",
       "      <td>int32</td>\n",
       "    </tr>\n",
       "    <tr>\n",
       "      <th>11</th>\n",
       "      <td>pub_rec_bankruptcies</td>\n",
       "      <td>0</td>\n",
       "      <td>int32</td>\n",
       "    </tr>\n",
       "    <tr>\n",
       "      <th>18</th>\n",
       "      <td>earliest_cr_year</td>\n",
       "      <td>0</td>\n",
       "      <td>int32</td>\n",
       "    </tr>\n",
       "    <tr>\n",
       "      <th>21</th>\n",
       "      <td>term</td>\n",
       "      <td>0</td>\n",
       "      <td>int32</td>\n",
       "    </tr>\n",
       "    <tr>\n",
       "      <th>26</th>\n",
       "      <td>emp_length</td>\n",
       "      <td>0</td>\n",
       "      <td>int32</td>\n",
       "    </tr>\n",
       "    <tr>\n",
       "      <th>0</th>\n",
       "      <td>loan_amnt</td>\n",
       "      <td>0</td>\n",
       "      <td>float64</td>\n",
       "    </tr>\n",
       "    <tr>\n",
       "      <th>1</th>\n",
       "      <td>fico_range_high</td>\n",
       "      <td>0</td>\n",
       "      <td>float64</td>\n",
       "    </tr>\n",
       "    <tr>\n",
       "      <th>2</th>\n",
       "      <td>open_acc</td>\n",
       "      <td>0</td>\n",
       "      <td>float64</td>\n",
       "    </tr>\n",
       "    <tr>\n",
       "      <th>3</th>\n",
       "      <td>pub_rec</td>\n",
       "      <td>0</td>\n",
       "      <td>float64</td>\n",
       "    </tr>\n",
       "    <tr>\n",
       "      <th>4</th>\n",
       "      <td>revol_bal</td>\n",
       "      <td>0</td>\n",
       "      <td>float64</td>\n",
       "    </tr>\n",
       "    <tr>\n",
       "      <th>5</th>\n",
       "      <td>total_acc</td>\n",
       "      <td>0</td>\n",
       "      <td>float64</td>\n",
       "    </tr>\n",
       "    <tr>\n",
       "      <th>7</th>\n",
       "      <td>fico_range_low</td>\n",
       "      <td>0</td>\n",
       "      <td>float64</td>\n",
       "    </tr>\n",
       "    <tr>\n",
       "      <th>8</th>\n",
       "      <td>out_prncp</td>\n",
       "      <td>0</td>\n",
       "      <td>float64</td>\n",
       "    </tr>\n",
       "    <tr>\n",
       "      <th>10</th>\n",
       "      <td>delinq_amnt</td>\n",
       "      <td>0</td>\n",
       "      <td>float64</td>\n",
       "    </tr>\n",
       "    <tr>\n",
       "      <th>15</th>\n",
       "      <td>out_prncp_inv</td>\n",
       "      <td>0</td>\n",
       "      <td>float64</td>\n",
       "    </tr>\n",
       "    <tr>\n",
       "      <th>19</th>\n",
       "      <td>installment</td>\n",
       "      <td>0</td>\n",
       "      <td>float64</td>\n",
       "    </tr>\n",
       "    <tr>\n",
       "      <th>22</th>\n",
       "      <td>funded_amnt_inv</td>\n",
       "      <td>0</td>\n",
       "      <td>float64</td>\n",
       "    </tr>\n",
       "    <tr>\n",
       "      <th>27</th>\n",
       "      <td>funded_amnt</td>\n",
       "      <td>0</td>\n",
       "      <td>float64</td>\n",
       "    </tr>\n",
       "    <tr>\n",
       "      <th>33</th>\n",
       "      <td>annual_inc</td>\n",
       "      <td>0</td>\n",
       "      <td>float64</td>\n",
       "    </tr>\n",
       "    <tr>\n",
       "      <th>34</th>\n",
       "      <td>delinq_2yrs</td>\n",
       "      <td>0</td>\n",
       "      <td>float64</td>\n",
       "    </tr>\n",
       "    <tr>\n",
       "      <th>13</th>\n",
       "      <td>Date</td>\n",
       "      <td>0</td>\n",
       "      <td>datetime64[ns]</td>\n",
       "    </tr>\n",
       "    <tr>\n",
       "      <th>20</th>\n",
       "      <td>int_rate</td>\n",
       "      <td>0</td>\n",
       "      <td>float32</td>\n",
       "    </tr>\n",
       "    <tr>\n",
       "      <th>6</th>\n",
       "      <td>initial_list_status</td>\n",
       "      <td>0</td>\n",
       "      <td>object</td>\n",
       "    </tr>\n",
       "    <tr>\n",
       "      <th>12</th>\n",
       "      <td>debt_settlement_flag</td>\n",
       "      <td>0</td>\n",
       "      <td>object</td>\n",
       "    </tr>\n",
       "    <tr>\n",
       "      <th>14</th>\n",
       "      <td>issue_month</td>\n",
       "      <td>0</td>\n",
       "      <td>object</td>\n",
       "    </tr>\n",
       "    <tr>\n",
       "      <th>16</th>\n",
       "      <td>earliest_cr_line</td>\n",
       "      <td>0</td>\n",
       "      <td>object</td>\n",
       "    </tr>\n",
       "    <tr>\n",
       "      <th>17</th>\n",
       "      <td>application_type</td>\n",
       "      <td>0</td>\n",
       "      <td>object</td>\n",
       "    </tr>\n",
       "    <tr>\n",
       "      <th>23</th>\n",
       "      <td>grade</td>\n",
       "      <td>0</td>\n",
       "      <td>object</td>\n",
       "    </tr>\n",
       "    <tr>\n",
       "      <th>24</th>\n",
       "      <td>sub_grade</td>\n",
       "      <td>0</td>\n",
       "      <td>object</td>\n",
       "    </tr>\n",
       "    <tr>\n",
       "      <th>25</th>\n",
       "      <td>home_ownership</td>\n",
       "      <td>0</td>\n",
       "      <td>object</td>\n",
       "    </tr>\n",
       "    <tr>\n",
       "      <th>28</th>\n",
       "      <td>verification_status</td>\n",
       "      <td>0</td>\n",
       "      <td>object</td>\n",
       "    </tr>\n",
       "    <tr>\n",
       "      <th>29</th>\n",
       "      <td>issue_d</td>\n",
       "      <td>0</td>\n",
       "      <td>object</td>\n",
       "    </tr>\n",
       "    <tr>\n",
       "      <th>30</th>\n",
       "      <td>loan_status</td>\n",
       "      <td>0</td>\n",
       "      <td>object</td>\n",
       "    </tr>\n",
       "    <tr>\n",
       "      <th>31</th>\n",
       "      <td>purpose</td>\n",
       "      <td>0</td>\n",
       "      <td>object</td>\n",
       "    </tr>\n",
       "    <tr>\n",
       "      <th>32</th>\n",
       "      <td>addr_state</td>\n",
       "      <td>0</td>\n",
       "      <td>object</td>\n",
       "    </tr>\n",
       "    <tr>\n",
       "      <th>35</th>\n",
       "      <td>tax_liens</td>\n",
       "      <td>39</td>\n",
       "      <td>float64</td>\n",
       "    </tr>\n",
       "    <tr>\n",
       "      <th>36</th>\n",
       "      <td>chargeoff_within_12_mths</td>\n",
       "      <td>56</td>\n",
       "      <td>float64</td>\n",
       "    </tr>\n",
       "    <tr>\n",
       "      <th>37</th>\n",
       "      <td>dti</td>\n",
       "      <td>1109</td>\n",
       "      <td>float64</td>\n",
       "    </tr>\n",
       "    <tr>\n",
       "      <th>38</th>\n",
       "      <td>revol_util</td>\n",
       "      <td>1398</td>\n",
       "      <td>float32</td>\n",
       "    </tr>\n",
       "    <tr>\n",
       "      <th>39</th>\n",
       "      <td>hardship_flag</td>\n",
       "      <td>9407</td>\n",
       "      <td>object</td>\n",
       "    </tr>\n",
       "    <tr>\n",
       "      <th>40</th>\n",
       "      <td>acc_open_past_24mths</td>\n",
       "      <td>47281</td>\n",
       "      <td>float64</td>\n",
       "    </tr>\n",
       "    <tr>\n",
       "      <th>41</th>\n",
       "      <td>mort_acc</td>\n",
       "      <td>47281</td>\n",
       "      <td>float64</td>\n",
       "    </tr>\n",
       "    <tr>\n",
       "      <th>42</th>\n",
       "      <td>total_rev_hi_lim</td>\n",
       "      <td>67527</td>\n",
       "      <td>float64</td>\n",
       "    </tr>\n",
       "    <tr>\n",
       "      <th>43</th>\n",
       "      <td>avg_cur_bal</td>\n",
       "      <td>67572</td>\n",
       "      <td>float64</td>\n",
       "    </tr>\n",
       "    <tr>\n",
       "      <th>44</th>\n",
       "      <td>bc_open_to_buy</td>\n",
       "      <td>67751</td>\n",
       "      <td>float64</td>\n",
       "    </tr>\n",
       "    <tr>\n",
       "      <th>45</th>\n",
       "      <td>bc_util</td>\n",
       "      <td>68766</td>\n",
       "      <td>float64</td>\n",
       "    </tr>\n",
       "    <tr>\n",
       "      <th>46</th>\n",
       "      <td>open_rv_12m</td>\n",
       "      <td>846443</td>\n",
       "      <td>float64</td>\n",
       "    </tr>\n",
       "    <tr>\n",
       "      <th>47</th>\n",
       "      <td>open_act_il</td>\n",
       "      <td>846443</td>\n",
       "      <td>float64</td>\n",
       "    </tr>\n",
       "    <tr>\n",
       "      <th>48</th>\n",
       "      <td>open_il_12m</td>\n",
       "      <td>846443</td>\n",
       "      <td>float64</td>\n",
       "    </tr>\n",
       "    <tr>\n",
       "      <th>49</th>\n",
       "      <td>open_il_24m</td>\n",
       "      <td>846443</td>\n",
       "      <td>float64</td>\n",
       "    </tr>\n",
       "    <tr>\n",
       "      <th>50</th>\n",
       "      <td>total_bal_il</td>\n",
       "      <td>846443</td>\n",
       "      <td>float64</td>\n",
       "    </tr>\n",
       "    <tr>\n",
       "      <th>51</th>\n",
       "      <td>open_rv_24m</td>\n",
       "      <td>846443</td>\n",
       "      <td>float64</td>\n",
       "    </tr>\n",
       "    <tr>\n",
       "      <th>52</th>\n",
       "      <td>inq_fi</td>\n",
       "      <td>846443</td>\n",
       "      <td>float64</td>\n",
       "    </tr>\n",
       "    <tr>\n",
       "      <th>53</th>\n",
       "      <td>max_bal_bc</td>\n",
       "      <td>846443</td>\n",
       "      <td>float64</td>\n",
       "    </tr>\n",
       "    <tr>\n",
       "      <th>54</th>\n",
       "      <td>inq_last_12m</td>\n",
       "      <td>846444</td>\n",
       "      <td>float64</td>\n",
       "    </tr>\n",
       "    <tr>\n",
       "      <th>55</th>\n",
       "      <td>total_cu_tl</td>\n",
       "      <td>846444</td>\n",
       "      <td>float64</td>\n",
       "    </tr>\n",
       "    <tr>\n",
       "      <th>56</th>\n",
       "      <td>open_acc_6m</td>\n",
       "      <td>846444</td>\n",
       "      <td>float64</td>\n",
       "    </tr>\n",
       "    <tr>\n",
       "      <th>57</th>\n",
       "      <td>all_util</td>\n",
       "      <td>846582</td>\n",
       "      <td>float64</td>\n",
       "    </tr>\n",
       "    <tr>\n",
       "      <th>58</th>\n",
       "      <td>mths_since_rcnt_il</td>\n",
       "      <td>875459</td>\n",
       "      <td>float64</td>\n",
       "    </tr>\n",
       "  </tbody>\n",
       "</table>\n",
       "</div>"
      ],
      "text/plain": [
       "                       index  missing_value    feature_type\n",
       "9                 issue_year              0           int32\n",
       "11      pub_rec_bankruptcies              0           int32\n",
       "18          earliest_cr_year              0           int32\n",
       "21                      term              0           int32\n",
       "26                emp_length              0           int32\n",
       "0                  loan_amnt              0         float64\n",
       "1            fico_range_high              0         float64\n",
       "2                   open_acc              0         float64\n",
       "3                    pub_rec              0         float64\n",
       "4                  revol_bal              0         float64\n",
       "5                  total_acc              0         float64\n",
       "7             fico_range_low              0         float64\n",
       "8                  out_prncp              0         float64\n",
       "10               delinq_amnt              0         float64\n",
       "15             out_prncp_inv              0         float64\n",
       "19               installment              0         float64\n",
       "22           funded_amnt_inv              0         float64\n",
       "27               funded_amnt              0         float64\n",
       "33                annual_inc              0         float64\n",
       "34               delinq_2yrs              0         float64\n",
       "13                      Date              0  datetime64[ns]\n",
       "20                  int_rate              0         float32\n",
       "6        initial_list_status              0          object\n",
       "12      debt_settlement_flag              0          object\n",
       "14               issue_month              0          object\n",
       "16          earliest_cr_line              0          object\n",
       "17          application_type              0          object\n",
       "23                     grade              0          object\n",
       "24                 sub_grade              0          object\n",
       "25            home_ownership              0          object\n",
       "28       verification_status              0          object\n",
       "29                   issue_d              0          object\n",
       "30               loan_status              0          object\n",
       "31                   purpose              0          object\n",
       "32                addr_state              0          object\n",
       "35                 tax_liens             39         float64\n",
       "36  chargeoff_within_12_mths             56         float64\n",
       "37                       dti           1109         float64\n",
       "38                revol_util           1398         float32\n",
       "39             hardship_flag           9407          object\n",
       "40      acc_open_past_24mths          47281         float64\n",
       "41                  mort_acc          47281         float64\n",
       "42          total_rev_hi_lim          67527         float64\n",
       "43               avg_cur_bal          67572         float64\n",
       "44            bc_open_to_buy          67751         float64\n",
       "45                   bc_util          68766         float64\n",
       "46               open_rv_12m         846443         float64\n",
       "47               open_act_il         846443         float64\n",
       "48               open_il_12m         846443         float64\n",
       "49               open_il_24m         846443         float64\n",
       "50              total_bal_il         846443         float64\n",
       "51               open_rv_24m         846443         float64\n",
       "52                    inq_fi         846443         float64\n",
       "53                max_bal_bc         846443         float64\n",
       "54              inq_last_12m         846444         float64\n",
       "55               total_cu_tl         846444         float64\n",
       "56               open_acc_6m         846444         float64\n",
       "57                  all_util         846582         float64\n",
       "58        mths_since_rcnt_il         875459         float64"
      ]
     },
     "execution_count": 58,
     "metadata": {},
     "output_type": "execute_result"
    }
   ],
   "source": [
    "df_dtypes = pd.merge(df_new.isnull().sum(axis = 0).sort_values().to_frame('missing_value').reset_index(),\n",
    "         df_new.dtypes.to_frame('feature_type').reset_index(),\n",
    "         on = 'index',\n",
    "         how = 'inner')\n",
    "df_dtypes.sort_values(['missing_value', 'feature_type'])"
   ]
  },
  {
   "cell_type": "code",
   "execution_count": 59,
   "metadata": {
    "id": "f40dAQJ42scy"
   },
   "outputs": [],
   "source": [
    "#Remove some additional features.\n",
    "additional_removeable_features =[]\n",
    "additional_removeable_features.extend(['acc_open_past_24mths','max_bal_bc','inq_fi','open_rv_24m','total_rev_hi_lim','avg_cur_bal','bc_open_to_buy','bc_util','max_bal_bc','inq_fi','open_rv_24m','open_rv_12m','total_bal_il','open_il_24m','open_il_12m','open_act_il','open_acc_6m','inq_last_12m','total_cu_tl','all_util','mths_since_rcnt_il'])"
   ]
  },
  {
   "cell_type": "code",
   "execution_count": 60,
   "metadata": {
    "colab": {
     "base_uri": "https://localhost:8080/"
    },
    "id": "kel-Vz1_4_aw",
    "outputId": "ddc9ba27-2e46-4d14-fd7b-93f4f73f0997"
   },
   "outputs": [
    {
     "data": {
      "text/plain": [
       "18"
      ]
     },
     "execution_count": 60,
     "metadata": {},
     "output_type": "execute_result"
    }
   ],
   "source": [
    "#Checking the additional features length.\n",
    "len(set(additional_removeable_features))"
   ]
  },
  {
   "cell_type": "code",
   "execution_count": 61,
   "metadata": {
    "id": "E0qR__dm5xiC"
   },
   "outputs": [],
   "source": [
    "#Drop the additional_removeable_features\n",
    "df_new = df_new.drop(list(set(additional_removeable_features)), axis = 1)"
   ]
  },
  {
   "cell_type": "code",
   "execution_count": 62,
   "metadata": {
    "colab": {
     "base_uri": "https://localhost:8080/"
    },
    "id": "mNp78MKn0tO4",
    "outputId": "6474eaa1-6fc2-4e47-fde1-2889b29e7a17"
   },
   "outputs": [
    {
     "data": {
      "text/plain": [
       "(1860764, 41)"
      ]
     },
     "execution_count": 62,
     "metadata": {},
     "output_type": "execute_result"
    }
   ],
   "source": [
    "#Check the shape after removing the additional_removeable_features\n",
    "df_new.shape"
   ]
  },
  {
   "cell_type": "code",
   "execution_count": 63,
   "metadata": {
    "id": "gqy-PbO1Sngs"
   },
   "outputs": [],
   "source": [
    "#Create some features for the purpose of analysis.\n",
    "df_new['earliest_cr_line']=  pd.to_datetime(df_new['earliest_cr_line'], infer_datetime_format=True)\n",
    "df_new['issue_d']=  pd.to_datetime(df_new['issue_d'], infer_datetime_format=True)\n",
    "df_new['credit_hist']= df_new['issue_d'] - df_new['earliest_cr_line']\n",
    "df_new.credit_hist = (df_new.credit_hist/np.timedelta64(1,'D')).astype(int)"
   ]
  },
  {
   "cell_type": "code",
   "execution_count": 64,
   "metadata": {
    "colab": {
     "base_uri": "https://localhost:8080/",
     "height": 1000
    },
    "id": "VR6lqTviIsoK",
    "outputId": "61b4991b-4f15-4687-8941-a7bb5fb6f63f"
   },
   "outputs": [
    {
     "data": {
      "text/html": [
       "<div>\n",
       "<style scoped>\n",
       "    .dataframe tbody tr th:only-of-type {\n",
       "        vertical-align: middle;\n",
       "    }\n",
       "\n",
       "    .dataframe tbody tr th {\n",
       "        vertical-align: top;\n",
       "    }\n",
       "\n",
       "    .dataframe thead th {\n",
       "        text-align: right;\n",
       "    }\n",
       "</style>\n",
       "<table border=\"1\" class=\"dataframe\">\n",
       "  <thead>\n",
       "    <tr style=\"text-align: right;\">\n",
       "      <th></th>\n",
       "      <th>index</th>\n",
       "      <th>missing_value</th>\n",
       "      <th>feature_type</th>\n",
       "    </tr>\n",
       "  </thead>\n",
       "  <tbody>\n",
       "    <tr>\n",
       "      <th>1</th>\n",
       "      <td>earliest_cr_year</td>\n",
       "      <td>0</td>\n",
       "      <td>int32</td>\n",
       "    </tr>\n",
       "    <tr>\n",
       "      <th>11</th>\n",
       "      <td>pub_rec_bankruptcies</td>\n",
       "      <td>0</td>\n",
       "      <td>int32</td>\n",
       "    </tr>\n",
       "    <tr>\n",
       "      <th>15</th>\n",
       "      <td>issue_year</td>\n",
       "      <td>0</td>\n",
       "      <td>int32</td>\n",
       "    </tr>\n",
       "    <tr>\n",
       "      <th>19</th>\n",
       "      <td>credit_hist</td>\n",
       "      <td>0</td>\n",
       "      <td>int32</td>\n",
       "    </tr>\n",
       "    <tr>\n",
       "      <th>25</th>\n",
       "      <td>emp_length</td>\n",
       "      <td>0</td>\n",
       "      <td>int32</td>\n",
       "    </tr>\n",
       "    <tr>\n",
       "      <th>26</th>\n",
       "      <td>term</td>\n",
       "      <td>0</td>\n",
       "      <td>int32</td>\n",
       "    </tr>\n",
       "    <tr>\n",
       "      <th>0</th>\n",
       "      <td>loan_amnt</td>\n",
       "      <td>0</td>\n",
       "      <td>float64</td>\n",
       "    </tr>\n",
       "    <tr>\n",
       "      <th>2</th>\n",
       "      <td>open_acc</td>\n",
       "      <td>0</td>\n",
       "      <td>float64</td>\n",
       "    </tr>\n",
       "    <tr>\n",
       "      <th>3</th>\n",
       "      <td>pub_rec</td>\n",
       "      <td>0</td>\n",
       "      <td>float64</td>\n",
       "    </tr>\n",
       "    <tr>\n",
       "      <th>4</th>\n",
       "      <td>revol_bal</td>\n",
       "      <td>0</td>\n",
       "      <td>float64</td>\n",
       "    </tr>\n",
       "    <tr>\n",
       "      <th>5</th>\n",
       "      <td>total_acc</td>\n",
       "      <td>0</td>\n",
       "      <td>float64</td>\n",
       "    </tr>\n",
       "    <tr>\n",
       "      <th>7</th>\n",
       "      <td>out_prncp</td>\n",
       "      <td>0</td>\n",
       "      <td>float64</td>\n",
       "    </tr>\n",
       "    <tr>\n",
       "      <th>8</th>\n",
       "      <td>out_prncp_inv</td>\n",
       "      <td>0</td>\n",
       "      <td>float64</td>\n",
       "    </tr>\n",
       "    <tr>\n",
       "      <th>10</th>\n",
       "      <td>delinq_amnt</td>\n",
       "      <td>0</td>\n",
       "      <td>float64</td>\n",
       "    </tr>\n",
       "    <tr>\n",
       "      <th>16</th>\n",
       "      <td>fico_range_low</td>\n",
       "      <td>0</td>\n",
       "      <td>float64</td>\n",
       "    </tr>\n",
       "    <tr>\n",
       "      <th>18</th>\n",
       "      <td>fico_range_high</td>\n",
       "      <td>0</td>\n",
       "      <td>float64</td>\n",
       "    </tr>\n",
       "    <tr>\n",
       "      <th>20</th>\n",
       "      <td>installment</td>\n",
       "      <td>0</td>\n",
       "      <td>float64</td>\n",
       "    </tr>\n",
       "    <tr>\n",
       "      <th>21</th>\n",
       "      <td>funded_amnt_inv</td>\n",
       "      <td>0</td>\n",
       "      <td>float64</td>\n",
       "    </tr>\n",
       "    <tr>\n",
       "      <th>23</th>\n",
       "      <td>delinq_2yrs</td>\n",
       "      <td>0</td>\n",
       "      <td>float64</td>\n",
       "    </tr>\n",
       "    <tr>\n",
       "      <th>29</th>\n",
       "      <td>funded_amnt</td>\n",
       "      <td>0</td>\n",
       "      <td>float64</td>\n",
       "    </tr>\n",
       "    <tr>\n",
       "      <th>34</th>\n",
       "      <td>annual_inc</td>\n",
       "      <td>0</td>\n",
       "      <td>float64</td>\n",
       "    </tr>\n",
       "    <tr>\n",
       "      <th>13</th>\n",
       "      <td>Date</td>\n",
       "      <td>0</td>\n",
       "      <td>datetime64[ns]</td>\n",
       "    </tr>\n",
       "    <tr>\n",
       "      <th>17</th>\n",
       "      <td>earliest_cr_line</td>\n",
       "      <td>0</td>\n",
       "      <td>datetime64[ns]</td>\n",
       "    </tr>\n",
       "    <tr>\n",
       "      <th>30</th>\n",
       "      <td>issue_d</td>\n",
       "      <td>0</td>\n",
       "      <td>datetime64[ns]</td>\n",
       "    </tr>\n",
       "    <tr>\n",
       "      <th>35</th>\n",
       "      <td>int_rate</td>\n",
       "      <td>0</td>\n",
       "      <td>float32</td>\n",
       "    </tr>\n",
       "    <tr>\n",
       "      <th>6</th>\n",
       "      <td>initial_list_status</td>\n",
       "      <td>0</td>\n",
       "      <td>object</td>\n",
       "    </tr>\n",
       "    <tr>\n",
       "      <th>9</th>\n",
       "      <td>application_type</td>\n",
       "      <td>0</td>\n",
       "      <td>object</td>\n",
       "    </tr>\n",
       "    <tr>\n",
       "      <th>12</th>\n",
       "      <td>debt_settlement_flag</td>\n",
       "      <td>0</td>\n",
       "      <td>object</td>\n",
       "    </tr>\n",
       "    <tr>\n",
       "      <th>14</th>\n",
       "      <td>issue_month</td>\n",
       "      <td>0</td>\n",
       "      <td>object</td>\n",
       "    </tr>\n",
       "    <tr>\n",
       "      <th>22</th>\n",
       "      <td>grade</td>\n",
       "      <td>0</td>\n",
       "      <td>object</td>\n",
       "    </tr>\n",
       "    <tr>\n",
       "      <th>24</th>\n",
       "      <td>sub_grade</td>\n",
       "      <td>0</td>\n",
       "      <td>object</td>\n",
       "    </tr>\n",
       "    <tr>\n",
       "      <th>27</th>\n",
       "      <td>home_ownership</td>\n",
       "      <td>0</td>\n",
       "      <td>object</td>\n",
       "    </tr>\n",
       "    <tr>\n",
       "      <th>28</th>\n",
       "      <td>verification_status</td>\n",
       "      <td>0</td>\n",
       "      <td>object</td>\n",
       "    </tr>\n",
       "    <tr>\n",
       "      <th>31</th>\n",
       "      <td>loan_status</td>\n",
       "      <td>0</td>\n",
       "      <td>object</td>\n",
       "    </tr>\n",
       "    <tr>\n",
       "      <th>32</th>\n",
       "      <td>purpose</td>\n",
       "      <td>0</td>\n",
       "      <td>object</td>\n",
       "    </tr>\n",
       "    <tr>\n",
       "      <th>33</th>\n",
       "      <td>addr_state</td>\n",
       "      <td>0</td>\n",
       "      <td>object</td>\n",
       "    </tr>\n",
       "    <tr>\n",
       "      <th>36</th>\n",
       "      <td>tax_liens</td>\n",
       "      <td>39</td>\n",
       "      <td>float64</td>\n",
       "    </tr>\n",
       "    <tr>\n",
       "      <th>37</th>\n",
       "      <td>chargeoff_within_12_mths</td>\n",
       "      <td>56</td>\n",
       "      <td>float64</td>\n",
       "    </tr>\n",
       "    <tr>\n",
       "      <th>38</th>\n",
       "      <td>dti</td>\n",
       "      <td>1109</td>\n",
       "      <td>float64</td>\n",
       "    </tr>\n",
       "    <tr>\n",
       "      <th>39</th>\n",
       "      <td>revol_util</td>\n",
       "      <td>1398</td>\n",
       "      <td>float32</td>\n",
       "    </tr>\n",
       "    <tr>\n",
       "      <th>40</th>\n",
       "      <td>hardship_flag</td>\n",
       "      <td>9407</td>\n",
       "      <td>object</td>\n",
       "    </tr>\n",
       "    <tr>\n",
       "      <th>41</th>\n",
       "      <td>mort_acc</td>\n",
       "      <td>47281</td>\n",
       "      <td>float64</td>\n",
       "    </tr>\n",
       "  </tbody>\n",
       "</table>\n",
       "</div>"
      ],
      "text/plain": [
       "                       index  missing_value    feature_type\n",
       "1           earliest_cr_year              0           int32\n",
       "11      pub_rec_bankruptcies              0           int32\n",
       "15                issue_year              0           int32\n",
       "19               credit_hist              0           int32\n",
       "25                emp_length              0           int32\n",
       "26                      term              0           int32\n",
       "0                  loan_amnt              0         float64\n",
       "2                   open_acc              0         float64\n",
       "3                    pub_rec              0         float64\n",
       "4                  revol_bal              0         float64\n",
       "5                  total_acc              0         float64\n",
       "7                  out_prncp              0         float64\n",
       "8              out_prncp_inv              0         float64\n",
       "10               delinq_amnt              0         float64\n",
       "16            fico_range_low              0         float64\n",
       "18           fico_range_high              0         float64\n",
       "20               installment              0         float64\n",
       "21           funded_amnt_inv              0         float64\n",
       "23               delinq_2yrs              0         float64\n",
       "29               funded_amnt              0         float64\n",
       "34                annual_inc              0         float64\n",
       "13                      Date              0  datetime64[ns]\n",
       "17          earliest_cr_line              0  datetime64[ns]\n",
       "30                   issue_d              0  datetime64[ns]\n",
       "35                  int_rate              0         float32\n",
       "6        initial_list_status              0          object\n",
       "9           application_type              0          object\n",
       "12      debt_settlement_flag              0          object\n",
       "14               issue_month              0          object\n",
       "22                     grade              0          object\n",
       "24                 sub_grade              0          object\n",
       "27            home_ownership              0          object\n",
       "28       verification_status              0          object\n",
       "31               loan_status              0          object\n",
       "32                   purpose              0          object\n",
       "33                addr_state              0          object\n",
       "36                 tax_liens             39         float64\n",
       "37  chargeoff_within_12_mths             56         float64\n",
       "38                       dti           1109         float64\n",
       "39                revol_util           1398         float32\n",
       "40             hardship_flag           9407          object\n",
       "41                  mort_acc          47281         float64"
      ]
     },
     "execution_count": 64,
     "metadata": {},
     "output_type": "execute_result"
    }
   ],
   "source": [
    "#Checking the missing value and their types.\n",
    "df_dtypes = pd.merge(df_new.isnull().sum(axis = 0).sort_values().to_frame('missing_value').reset_index(),\n",
    "         df_new.dtypes.to_frame('feature_type').reset_index(),\n",
    "         on = 'index',\n",
    "         how = 'inner')\n",
    "\n",
    "df_dtypes.sort_values(['missing_value', 'feature_type'])"
   ]
  },
  {
   "cell_type": "code",
   "execution_count": 65,
   "metadata": {
    "id": "Nxi1KTNbJRdF"
   },
   "outputs": [],
   "source": [
    "#Filling the mort_acc with zero where missing. \n",
    "df_new['mort_acc'] = np.where(df_new['mort_acc'].isnull(), 0,df_new['mort_acc'])"
   ]
  },
  {
   "cell_type": "code",
   "execution_count": 66,
   "metadata": {
    "id": "_LvxDRLJ0rKb"
   },
   "outputs": [],
   "source": [
    "#Drop the missing rows from th ecolumns.\n",
    "df_new.dropna(inplace=True)"
   ]
  },
  {
   "cell_type": "code",
   "execution_count": 67,
   "metadata": {
    "id": "srGOHl88J4k_"
   },
   "outputs": [],
   "source": [
    "# Craete some dictionery to change the categorical value into int.\n",
    "grade_num = {'A':0,'B':1,'C':2,'D':3,'E':4,'F':5,'G':6}\n",
    "sub_grade_to_num={'A1':0,'A2':1,'A3':2,'A4':3,'A5':4,'B1':5,'B2':6,'B3':7,'B4':8,'B5':9,'C1':10,'C2':11,'C3':12,'C4':13,'C5':14,'D1':15,'D2':16,'D3':17,'D4':18,'D5':19,'E1':20,'E2':21,'E3':22,'E4':23,'E5':24,'F1':25,'F2':26,'F3':27,'F4':28,'F5':29,'G1':30,'G2':31,'G3':32,'G4':33,'G5':34}\n",
    "home_ownership_to_num = {'MORTGAGE': 4, 'RENT': 3, 'OWN': 5,'ANY': 2,'OTHER': 1, 'NONE':0 }\n",
    "verification_status_num ={'Verified':0,'Not Verified':1}\n",
    "purpose_to_num = {'car':0,'credit_card':1,'debt_consolidation':2,'educational':3,'home_improvement':4,'house':5,'major_purchase':6,'medical':7,'moving':8,'other':9,'renewable_energy':10,'small_business':11,'vacation':12,'wedding':13}\n",
    "initial_list_status_to_num = {'f':0,'w':1}\n",
    "application_type_to_num={'Individual':0,'Joint App':1}\n",
    "hardship_flag_to_num = {'N':0,'Y':1}\n",
    "debt_settlement_flag_to_num = {'N':0,'Y':1}\n",
    "issue_month_to_num = {'Jan':0,'Feb':1,'Mar':2,'Apr':3,'May':4,'Jun':5,'Jul':6,'Aug':7,'Sep':8,'Oct':9,'Nov':10,'Dec':11}\n",
    "loan_status_to_num = {'Paid':0,'Default':1}\n",
    "addr_state_to_num = {'AK':0,'AL':1,'AR':2,'AZ':3,'CA':4,'CO':5,'CT':6,'DC':7,'DE':8,'FL':9,'GA':10,'HI':11,'IA':12,'ID':13,'IL':14,'IN':15,'KS':16,'KY':17,'LA':18,'MA':19,'MD':20,'ME':21,'MI':22,'MN':23,'MO':24,'MS':25,'MT':26,'NC':27,'ND':28,'NE':29,'NH':30,'NJ':31,'NM':32,'NV':33,'NY':34,'OH':35,'OK':36,'OR':37,'PA':38,'RI':39,'SC':40,'SD':41,'TN':42,'TX':43,'UT':44,'VA':45,'VT':46,'WA':47,'WI':48,'WV':49,'WY':50}\n"
   ]
  },
  {
   "cell_type": "code",
   "execution_count": 68,
   "metadata": {
    "id": "mWryITYHVbxD"
   },
   "outputs": [],
   "source": [
    "#Replce the categorical columns with int value.\n",
    "df_new.replace({'grade':grade_num,'sub_grade': sub_grade_to_num, 'home_ownership':home_ownership_to_num,'verification_status':verification_status_num,'purpose':purpose_to_num,'initial_list_status':initial_list_status_to_num,'application_type':application_type_to_num,'hardship_flag':hardship_flag_to_num,'debt_settlement_flag':debt_settlement_flag_to_num,'issue_month':issue_month_to_num,'loan_status':loan_status_to_num,'addr_state':addr_state_to_num}, inplace=True)"
   ]
  },
  {
   "cell_type": "code",
   "execution_count": 69,
   "metadata": {
    "id": "XAVkY6hlYXyU"
   },
   "outputs": [],
   "source": [
    "#Drop some unnecessary features.\n",
    "df_new = df_new.drop(['Date','issue_d','earliest_cr_line'], axis = 1)"
   ]
  },
  {
   "cell_type": "code",
   "execution_count": 70,
   "metadata": {
    "colab": {
     "base_uri": "https://localhost:8080/"
    },
    "id": "2nAppaXD8tpE",
    "outputId": "f2b7db9c-c148-4a75-8a4e-b00ca341ed10"
   },
   "outputs": [
    {
     "data": {
      "text/plain": [
       "False"
      ]
     },
     "execution_count": 70,
     "metadata": {},
     "output_type": "execute_result"
    }
   ],
   "source": [
    "#Check is there any null exist \n",
    "df_new.isnull().values.any()"
   ]
  },
  {
   "cell_type": "code",
   "execution_count": 71,
   "metadata": {
    "colab": {
     "base_uri": "https://localhost:8080/",
     "height": 1000
    },
    "id": "sMUCCuCP95Q1",
    "outputId": "d971ed68-cf7d-461f-e42b-9eb16c0b6eee"
   },
   "outputs": [
    {
     "data": {
      "text/html": [
       "<div>\n",
       "<style scoped>\n",
       "    .dataframe tbody tr th:only-of-type {\n",
       "        vertical-align: middle;\n",
       "    }\n",
       "\n",
       "    .dataframe tbody tr th {\n",
       "        vertical-align: top;\n",
       "    }\n",
       "\n",
       "    .dataframe thead th {\n",
       "        text-align: right;\n",
       "    }\n",
       "</style>\n",
       "<table border=\"1\" class=\"dataframe\">\n",
       "  <thead>\n",
       "    <tr style=\"text-align: right;\">\n",
       "      <th></th>\n",
       "      <th>Missing_Value</th>\n",
       "    </tr>\n",
       "  </thead>\n",
       "  <tbody>\n",
       "    <tr>\n",
       "      <th>loan_amnt</th>\n",
       "      <td>0</td>\n",
       "    </tr>\n",
       "    <tr>\n",
       "      <th>revol_bal</th>\n",
       "      <td>0</td>\n",
       "    </tr>\n",
       "    <tr>\n",
       "      <th>revol_util</th>\n",
       "      <td>0</td>\n",
       "    </tr>\n",
       "    <tr>\n",
       "      <th>total_acc</th>\n",
       "      <td>0</td>\n",
       "    </tr>\n",
       "    <tr>\n",
       "      <th>initial_list_status</th>\n",
       "      <td>0</td>\n",
       "    </tr>\n",
       "    <tr>\n",
       "      <th>out_prncp</th>\n",
       "      <td>0</td>\n",
       "    </tr>\n",
       "    <tr>\n",
       "      <th>out_prncp_inv</th>\n",
       "      <td>0</td>\n",
       "    </tr>\n",
       "    <tr>\n",
       "      <th>application_type</th>\n",
       "      <td>0</td>\n",
       "    </tr>\n",
       "    <tr>\n",
       "      <th>pub_rec</th>\n",
       "      <td>0</td>\n",
       "    </tr>\n",
       "    <tr>\n",
       "      <th>chargeoff_within_12_mths</th>\n",
       "      <td>0</td>\n",
       "    </tr>\n",
       "    <tr>\n",
       "      <th>mort_acc</th>\n",
       "      <td>0</td>\n",
       "    </tr>\n",
       "    <tr>\n",
       "      <th>pub_rec_bankruptcies</th>\n",
       "      <td>0</td>\n",
       "    </tr>\n",
       "    <tr>\n",
       "      <th>tax_liens</th>\n",
       "      <td>0</td>\n",
       "    </tr>\n",
       "    <tr>\n",
       "      <th>hardship_flag</th>\n",
       "      <td>0</td>\n",
       "    </tr>\n",
       "    <tr>\n",
       "      <th>debt_settlement_flag</th>\n",
       "      <td>0</td>\n",
       "    </tr>\n",
       "    <tr>\n",
       "      <th>issue_month</th>\n",
       "      <td>0</td>\n",
       "    </tr>\n",
       "    <tr>\n",
       "      <th>issue_year</th>\n",
       "      <td>0</td>\n",
       "    </tr>\n",
       "    <tr>\n",
       "      <th>delinq_amnt</th>\n",
       "      <td>0</td>\n",
       "    </tr>\n",
       "    <tr>\n",
       "      <th>earliest_cr_year</th>\n",
       "      <td>0</td>\n",
       "    </tr>\n",
       "    <tr>\n",
       "      <th>open_acc</th>\n",
       "      <td>0</td>\n",
       "    </tr>\n",
       "    <tr>\n",
       "      <th>fico_range_low</th>\n",
       "      <td>0</td>\n",
       "    </tr>\n",
       "    <tr>\n",
       "      <th>funded_amnt</th>\n",
       "      <td>0</td>\n",
       "    </tr>\n",
       "    <tr>\n",
       "      <th>funded_amnt_inv</th>\n",
       "      <td>0</td>\n",
       "    </tr>\n",
       "    <tr>\n",
       "      <th>term</th>\n",
       "      <td>0</td>\n",
       "    </tr>\n",
       "    <tr>\n",
       "      <th>int_rate</th>\n",
       "      <td>0</td>\n",
       "    </tr>\n",
       "    <tr>\n",
       "      <th>installment</th>\n",
       "      <td>0</td>\n",
       "    </tr>\n",
       "    <tr>\n",
       "      <th>grade</th>\n",
       "      <td>0</td>\n",
       "    </tr>\n",
       "    <tr>\n",
       "      <th>sub_grade</th>\n",
       "      <td>0</td>\n",
       "    </tr>\n",
       "    <tr>\n",
       "      <th>fico_range_high</th>\n",
       "      <td>0</td>\n",
       "    </tr>\n",
       "    <tr>\n",
       "      <th>emp_length</th>\n",
       "      <td>0</td>\n",
       "    </tr>\n",
       "    <tr>\n",
       "      <th>annual_inc</th>\n",
       "      <td>0</td>\n",
       "    </tr>\n",
       "    <tr>\n",
       "      <th>verification_status</th>\n",
       "      <td>0</td>\n",
       "    </tr>\n",
       "    <tr>\n",
       "      <th>loan_status</th>\n",
       "      <td>0</td>\n",
       "    </tr>\n",
       "    <tr>\n",
       "      <th>purpose</th>\n",
       "      <td>0</td>\n",
       "    </tr>\n",
       "    <tr>\n",
       "      <th>addr_state</th>\n",
       "      <td>0</td>\n",
       "    </tr>\n",
       "    <tr>\n",
       "      <th>dti</th>\n",
       "      <td>0</td>\n",
       "    </tr>\n",
       "    <tr>\n",
       "      <th>delinq_2yrs</th>\n",
       "      <td>0</td>\n",
       "    </tr>\n",
       "    <tr>\n",
       "      <th>home_ownership</th>\n",
       "      <td>0</td>\n",
       "    </tr>\n",
       "    <tr>\n",
       "      <th>credit_hist</th>\n",
       "      <td>0</td>\n",
       "    </tr>\n",
       "  </tbody>\n",
       "</table>\n",
       "</div>"
      ],
      "text/plain": [
       "                          Missing_Value\n",
       "loan_amnt                             0\n",
       "revol_bal                             0\n",
       "revol_util                            0\n",
       "total_acc                             0\n",
       "initial_list_status                   0\n",
       "out_prncp                             0\n",
       "out_prncp_inv                         0\n",
       "application_type                      0\n",
       "pub_rec                               0\n",
       "chargeoff_within_12_mths              0\n",
       "mort_acc                              0\n",
       "pub_rec_bankruptcies                  0\n",
       "tax_liens                             0\n",
       "hardship_flag                         0\n",
       "debt_settlement_flag                  0\n",
       "issue_month                           0\n",
       "issue_year                            0\n",
       "delinq_amnt                           0\n",
       "earliest_cr_year                      0\n",
       "open_acc                              0\n",
       "fico_range_low                        0\n",
       "funded_amnt                           0\n",
       "funded_amnt_inv                       0\n",
       "term                                  0\n",
       "int_rate                              0\n",
       "installment                           0\n",
       "grade                                 0\n",
       "sub_grade                             0\n",
       "fico_range_high                       0\n",
       "emp_length                            0\n",
       "annual_inc                            0\n",
       "verification_status                   0\n",
       "loan_status                           0\n",
       "purpose                               0\n",
       "addr_state                            0\n",
       "dti                                   0\n",
       "delinq_2yrs                           0\n",
       "home_ownership                        0\n",
       "credit_hist                           0"
      ]
     },
     "execution_count": 71,
     "metadata": {},
     "output_type": "execute_result"
    }
   ],
   "source": [
    "df_new.isnull().sum(axis = 0).sort_values().to_frame(\"Missing_Value\")"
   ]
  },
  {
   "cell_type": "code",
   "execution_count": 72,
   "metadata": {
    "id": "Kkq91Ac3aXGC"
   },
   "outputs": [],
   "source": [
    "#Deal with infinite value.\n",
    "df_new = df_new[np.isfinite(df_new).all(1)]"
   ]
  },
  {
   "cell_type": "code",
   "execution_count": 73,
   "metadata": {
    "colab": {
     "base_uri": "https://localhost:8080/"
    },
    "id": "369GO0VQDfRF",
    "outputId": "9fd97628-744e-4b10-a5e7-3e1e9ec32dc3"
   },
   "outputs": [
    {
     "data": {
      "text/plain": [
       "(1848827, 39)"
      ]
     },
     "execution_count": 73,
     "metadata": {},
     "output_type": "execute_result"
    }
   ],
   "source": [
    "#Check the shape.\n",
    "df_new.shape"
   ]
  },
  {
   "cell_type": "code",
   "execution_count": 74,
   "metadata": {
    "id": "33JGroajfpBG"
   },
   "outputs": [],
   "source": [
    "#Create a additional features named Loan_to_annual_inc_ratio\n",
    "df_new['Loan_to_annual_inc_ratio'] = df_new['loan_amnt'] / df_new['annual_inc']\n",
    "df_new = df_new[np.isfinite(df_new).all(1)]"
   ]
  },
  {
   "cell_type": "markdown",
   "metadata": {
    "id": "D9UKj65BEfGD"
   },
   "source": [
    "**Feature Correlation**"
   ]
  },
  {
   "cell_type": "code",
   "execution_count": 75,
   "metadata": {
    "id": "WUlEDbFJEMU_"
   },
   "outputs": [
    {
     "data": {
      "image/png": "[encoded data removed]",
      "text/plain": [
       "<Figure size 720x576 with 2 Axes>"
      ]
     },
     "metadata": {
      "needs_background": "light"
     },
     "output_type": "display_data"
    }
   ],
   "source": [
    "#Checking the eature Correlation \n",
    "corr = df_new.corr(method = 'spearman')\n",
    "plt.figure(figsize = (10, 8))\n",
    "sns.heatmap(corr.abs(), cmap ='Greens' )\n",
    "plt.show()"
   ]
  },
  {
   "cell_type": "code",
   "execution_count": null,
   "metadata": {
    "colab": {
     "base_uri": "https://localhost:8080/",
     "height": 608
    },
    "id": "X2SpmRy9EVFc",
    "outputId": "296110b6-9aa8-405e-9c9e-f8c749724df2"
   },
   "outputs": [],
   "source": []
  },
  {
   "cell_type": "markdown",
   "metadata": {
    "id": "yOhsHxbuEnHp"
   },
   "source": [
    "**Find highly correlated features of dependent variables.**"
   ]
  },
  {
   "cell_type": "code",
   "execution_count": 76,
   "metadata": {
    "id": "5hsdjuFnEu-o"
   },
   "outputs": [
    {
     "data": {
      "text/html": [
       "<div>\n",
       "<style scoped>\n",
       "    .dataframe tbody tr th:only-of-type {\n",
       "        vertical-align: middle;\n",
       "    }\n",
       "\n",
       "    .dataframe tbody tr th {\n",
       "        vertical-align: top;\n",
       "    }\n",
       "\n",
       "    .dataframe thead th {\n",
       "        text-align: right;\n",
       "    }\n",
       "</style>\n",
       "<table border=\"1\" class=\"dataframe\">\n",
       "  <thead>\n",
       "    <tr style=\"text-align: right;\">\n",
       "      <th></th>\n",
       "      <th>level_0</th>\n",
       "      <th>level_1</th>\n",
       "      <th>correlation</th>\n",
       "    </tr>\n",
       "  </thead>\n",
       "  <tbody>\n",
       "    <tr>\n",
       "      <th>737</th>\n",
       "      <td>fico_range_high</td>\n",
       "      <td>fico_range_low</td>\n",
       "      <td>1.000000</td>\n",
       "    </tr>\n",
       "    <tr>\n",
       "      <th>1065</th>\n",
       "      <td>out_prncp_inv</td>\n",
       "      <td>out_prncp</td>\n",
       "      <td>1.000000</td>\n",
       "    </tr>\n",
       "    <tr>\n",
       "      <th>40</th>\n",
       "      <td>funded_amnt</td>\n",
       "      <td>loan_amnt</td>\n",
       "      <td>0.999743</td>\n",
       "    </tr>\n",
       "    <tr>\n",
       "      <th>81</th>\n",
       "      <td>funded_amnt_inv</td>\n",
       "      <td>funded_amnt</td>\n",
       "      <td>0.998992</td>\n",
       "    </tr>\n",
       "    <tr>\n",
       "      <th>80</th>\n",
       "      <td>funded_amnt_inv</td>\n",
       "      <td>loan_amnt</td>\n",
       "      <td>0.998658</td>\n",
       "    </tr>\n",
       "    <tr>\n",
       "      <th>284</th>\n",
       "      <td>sub_grade</td>\n",
       "      <td>int_rate</td>\n",
       "      <td>0.983921</td>\n",
       "    </tr>\n",
       "    <tr>\n",
       "      <th>286</th>\n",
       "      <td>sub_grade</td>\n",
       "      <td>grade</td>\n",
       "      <td>0.971630</td>\n",
       "    </tr>\n",
       "    <tr>\n",
       "      <th>201</th>\n",
       "      <td>installment</td>\n",
       "      <td>funded_amnt</td>\n",
       "      <td>0.968936</td>\n",
       "    </tr>\n",
       "    <tr>\n",
       "      <th>200</th>\n",
       "      <td>installment</td>\n",
       "      <td>loan_amnt</td>\n",
       "      <td>0.968516</td>\n",
       "    </tr>\n",
       "    <tr>\n",
       "      <th>202</th>\n",
       "      <td>installment</td>\n",
       "      <td>funded_amnt_inv</td>\n",
       "      <td>0.967732</td>\n",
       "    </tr>\n",
       "    <tr>\n",
       "      <th>244</th>\n",
       "      <td>grade</td>\n",
       "      <td>int_rate</td>\n",
       "      <td>0.956783</td>\n",
       "    </tr>\n",
       "    <tr>\n",
       "      <th>1557</th>\n",
       "      <td>credit_hist</td>\n",
       "      <td>earliest_cr_year</td>\n",
       "      <td>0.955144</td>\n",
       "    </tr>\n",
       "    <tr>\n",
       "      <th>1260</th>\n",
       "      <td>pub_rec_bankruptcies</td>\n",
       "      <td>pub_rec</td>\n",
       "      <td>0.835330</td>\n",
       "    </tr>\n",
       "    <tr>\n",
       "      <th>939</th>\n",
       "      <td>total_acc</td>\n",
       "      <td>open_acc</td>\n",
       "      <td>0.703978</td>\n",
       "    </tr>\n",
       "    <tr>\n",
       "      <th>1560</th>\n",
       "      <td>Loan_to_annual_inc_ratio</td>\n",
       "      <td>loan_amnt</td>\n",
       "      <td>0.635145</td>\n",
       "    </tr>\n",
       "    <tr>\n",
       "      <th>1561</th>\n",
       "      <td>Loan_to_annual_inc_ratio</td>\n",
       "      <td>funded_amnt</td>\n",
       "      <td>0.634971</td>\n",
       "    </tr>\n",
       "    <tr>\n",
       "      <th>1562</th>\n",
       "      <td>Loan_to_annual_inc_ratio</td>\n",
       "      <td>funded_amnt_inv</td>\n",
       "      <td>0.634098</td>\n",
       "    </tr>\n",
       "    <tr>\n",
       "      <th>1565</th>\n",
       "      <td>Loan_to_annual_inc_ratio</td>\n",
       "      <td>installment</td>\n",
       "      <td>0.622269</td>\n",
       "    </tr>\n",
       "    <tr>\n",
       "      <th>400</th>\n",
       "      <td>annual_inc</td>\n",
       "      <td>loan_amnt</td>\n",
       "      <td>0.469522</td>\n",
       "    </tr>\n",
       "    <tr>\n",
       "      <th>401</th>\n",
       "      <td>annual_inc</td>\n",
       "      <td>funded_amnt</td>\n",
       "      <td>0.469431</td>\n",
       "    </tr>\n",
       "    <tr>\n",
       "      <th>402</th>\n",
       "      <td>annual_inc</td>\n",
       "      <td>funded_amnt_inv</td>\n",
       "      <td>0.469158</td>\n",
       "    </tr>\n",
       "    <tr>\n",
       "      <th>840</th>\n",
       "      <td>revol_bal</td>\n",
       "      <td>loan_amnt</td>\n",
       "      <td>0.458139</td>\n",
       "    </tr>\n",
       "    <tr>\n",
       "      <th>841</th>\n",
       "      <td>revol_bal</td>\n",
       "      <td>funded_amnt</td>\n",
       "      <td>0.458052</td>\n",
       "    </tr>\n",
       "    <tr>\n",
       "      <th>842</th>\n",
       "      <td>revol_bal</td>\n",
       "      <td>funded_amnt_inv</td>\n",
       "      <td>0.457497</td>\n",
       "    </tr>\n",
       "    <tr>\n",
       "      <th>405</th>\n",
       "      <td>annual_inc</td>\n",
       "      <td>installment</td>\n",
       "      <td>0.448969</td>\n",
       "    </tr>\n",
       "    <tr>\n",
       "      <th>901</th>\n",
       "      <td>revol_util</td>\n",
       "      <td>revol_bal</td>\n",
       "      <td>0.447396</td>\n",
       "    </tr>\n",
       "    <tr>\n",
       "      <th>845</th>\n",
       "      <td>revol_bal</td>\n",
       "      <td>installment</td>\n",
       "      <td>0.446911</td>\n",
       "    </tr>\n",
       "    <tr>\n",
       "      <th>1209</th>\n",
       "      <td>mort_acc</td>\n",
       "      <td>home_ownership</td>\n",
       "      <td>0.442764</td>\n",
       "    </tr>\n",
       "    <tr>\n",
       "      <th>727</th>\n",
       "      <td>fico_range_high</td>\n",
       "      <td>sub_grade</td>\n",
       "      <td>0.440227</td>\n",
       "    </tr>\n",
       "    <tr>\n",
       "      <th>687</th>\n",
       "      <td>fico_range_low</td>\n",
       "      <td>sub_grade</td>\n",
       "      <td>0.440227</td>\n",
       "    </tr>\n",
       "    <tr>\n",
       "      <th>686</th>\n",
       "      <td>fico_range_low</td>\n",
       "      <td>grade</td>\n",
       "      <td>0.430075</td>\n",
       "    </tr>\n",
       "    <tr>\n",
       "      <th>726</th>\n",
       "      <td>fico_range_high</td>\n",
       "      <td>grade</td>\n",
       "      <td>0.430075</td>\n",
       "    </tr>\n",
       "    <tr>\n",
       "      <th>1300</th>\n",
       "      <td>tax_liens</td>\n",
       "      <td>pub_rec</td>\n",
       "      <td>0.424402</td>\n",
       "    </tr>\n",
       "    <tr>\n",
       "      <th>724</th>\n",
       "      <td>fico_range_high</td>\n",
       "      <td>int_rate</td>\n",
       "      <td>0.423960</td>\n",
       "    </tr>\n",
       "    <tr>\n",
       "      <th>684</th>\n",
       "      <td>fico_range_low</td>\n",
       "      <td>int_rate</td>\n",
       "      <td>0.423960</td>\n",
       "    </tr>\n",
       "    <tr>\n",
       "      <th>120</th>\n",
       "      <td>term</td>\n",
       "      <td>loan_amnt</td>\n",
       "      <td>0.417435</td>\n",
       "    </tr>\n",
       "    <tr>\n",
       "      <th>122</th>\n",
       "      <td>term</td>\n",
       "      <td>funded_amnt_inv</td>\n",
       "      <td>0.417426</td>\n",
       "    </tr>\n",
       "    <tr>\n",
       "      <th>121</th>\n",
       "      <td>term</td>\n",
       "      <td>funded_amnt</td>\n",
       "      <td>0.417024</td>\n",
       "    </tr>\n",
       "    <tr>\n",
       "      <th>898</th>\n",
       "      <td>revol_util</td>\n",
       "      <td>fico_range_high</td>\n",
       "      <td>0.415932</td>\n",
       "    </tr>\n",
       "    <tr>\n",
       "      <th>897</th>\n",
       "      <td>revol_util</td>\n",
       "      <td>fico_range_low</td>\n",
       "      <td>0.415932</td>\n",
       "    </tr>\n",
       "    <tr>\n",
       "      <th>850</th>\n",
       "      <td>revol_bal</td>\n",
       "      <td>annual_inc</td>\n",
       "      <td>0.405290</td>\n",
       "    </tr>\n",
       "  </tbody>\n",
       "</table>\n",
       "</div>"
      ],
      "text/plain": [
       "                       level_0           level_1  correlation\n",
       "737            fico_range_high    fico_range_low     1.000000\n",
       "1065             out_prncp_inv         out_prncp     1.000000\n",
       "40                 funded_amnt         loan_amnt     0.999743\n",
       "81             funded_amnt_inv       funded_amnt     0.998992\n",
       "80             funded_amnt_inv         loan_amnt     0.998658\n",
       "284                  sub_grade          int_rate     0.983921\n",
       "286                  sub_grade             grade     0.971630\n",
       "201                installment       funded_amnt     0.968936\n",
       "200                installment         loan_amnt     0.968516\n",
       "202                installment   funded_amnt_inv     0.967732\n",
       "244                      grade          int_rate     0.956783\n",
       "1557               credit_hist  earliest_cr_year     0.955144\n",
       "1260      pub_rec_bankruptcies           pub_rec     0.835330\n",
       "939                  total_acc          open_acc     0.703978\n",
       "1560  Loan_to_annual_inc_ratio         loan_amnt     0.635145\n",
       "1561  Loan_to_annual_inc_ratio       funded_amnt     0.634971\n",
       "1562  Loan_to_annual_inc_ratio   funded_amnt_inv     0.634098\n",
       "1565  Loan_to_annual_inc_ratio       installment     0.622269\n",
       "400                 annual_inc         loan_amnt     0.469522\n",
       "401                 annual_inc       funded_amnt     0.469431\n",
       "402                 annual_inc   funded_amnt_inv     0.469158\n",
       "840                  revol_bal         loan_amnt     0.458139\n",
       "841                  revol_bal       funded_amnt     0.458052\n",
       "842                  revol_bal   funded_amnt_inv     0.457497\n",
       "405                 annual_inc       installment     0.448969\n",
       "901                 revol_util         revol_bal     0.447396\n",
       "845                  revol_bal       installment     0.446911\n",
       "1209                  mort_acc    home_ownership     0.442764\n",
       "727            fico_range_high         sub_grade     0.440227\n",
       "687             fico_range_low         sub_grade     0.440227\n",
       "686             fico_range_low             grade     0.430075\n",
       "726            fico_range_high             grade     0.430075\n",
       "1300                 tax_liens           pub_rec     0.424402\n",
       "724            fico_range_high          int_rate     0.423960\n",
       "684             fico_range_low          int_rate     0.423960\n",
       "120                       term         loan_amnt     0.417435\n",
       "122                       term   funded_amnt_inv     0.417426\n",
       "121                       term       funded_amnt     0.417024\n",
       "898                 revol_util   fico_range_high     0.415932\n",
       "897                 revol_util    fico_range_low     0.415932\n",
       "850                  revol_bal        annual_inc     0.405290"
      ]
     },
     "execution_count": 76,
     "metadata": {},
     "output_type": "execute_result"
    }
   ],
   "source": [
    "#Create a table for highly correlated features of dependent variables over 40%.\n",
    "new_corr = corr.abs()\n",
    "new_corr.loc[:,:] = np.tril(new_corr, k=-1) # below main lower triangle of an array\n",
    "new_corr = new_corr.stack().to_frame('correlation').reset_index().sort_values(by='correlation', ascending=False)\n",
    "new_corr[new_corr.correlation > 0.4]"
   ]
  },
  {
   "cell_type": "code",
   "execution_count": 77,
   "metadata": {
    "id": "Aon5gt_YE8R5"
   },
   "outputs": [],
   "source": [
    "#Remove the highly correlated features.\n",
    "high_correlated_feat = ['revol_bal','out_prncp','funded_amnt','funded_amnt_inv', 'grade', 'installment','int_rate','earliest_cr_year','pub_rec','open_acc','tax_liens','fico_range_low','out_prncp_inv']\n",
    "df_new.drop(high_correlated_feat, axis=1, inplace=True)"
   ]
  },
  {
   "cell_type": "code",
   "execution_count": 78,
   "metadata": {
    "colab": {
     "base_uri": "https://localhost:8080/"
    },
    "id": "FgWpJ7WDF93a",
    "outputId": "6bd29e82-c2ca-4199-a210-7487f037be4d"
   },
   "outputs": [
    {
     "data": {
      "text/plain": [
       "(1848821, 27)"
      ]
     },
     "execution_count": 78,
     "metadata": {},
     "output_type": "execute_result"
    }
   ],
   "source": [
    "#Check the shaee.\n",
    "df_new.shape"
   ]
  },
  {
   "cell_type": "markdown",
   "metadata": {
    "id": "KS4BWNfQGJNb"
   },
   "source": [
    "**Correlation with target variable**\n"
   ]
  },
  {
   "cell_type": "code",
   "execution_count": 79,
   "metadata": {
    "id": "zDDB5wUVGLo6"
   },
   "outputs": [
    {
     "data": {
      "text/html": [
       "<div>\n",
       "<style scoped>\n",
       "    .dataframe tbody tr th:only-of-type {\n",
       "        vertical-align: middle;\n",
       "    }\n",
       "\n",
       "    .dataframe tbody tr th {\n",
       "        vertical-align: top;\n",
       "    }\n",
       "\n",
       "    .dataframe thead th {\n",
       "        text-align: right;\n",
       "    }\n",
       "</style>\n",
       "<table border=\"1\" class=\"dataframe\">\n",
       "  <thead>\n",
       "    <tr style=\"text-align: right;\">\n",
       "      <th></th>\n",
       "      <th>index</th>\n",
       "      <th>correlation_with_target</th>\n",
       "      <th>unique_values</th>\n",
       "    </tr>\n",
       "  </thead>\n",
       "  <tbody>\n",
       "    <tr>\n",
       "      <th>0</th>\n",
       "      <td>loan_status</td>\n",
       "      <td>1.000000</td>\n",
       "      <td>2</td>\n",
       "    </tr>\n",
       "    <tr>\n",
       "      <th>1</th>\n",
       "      <td>debt_settlement_flag</td>\n",
       "      <td>0.342700</td>\n",
       "      <td>2</td>\n",
       "    </tr>\n",
       "    <tr>\n",
       "      <th>2</th>\n",
       "      <td>sub_grade</td>\n",
       "      <td>0.257733</td>\n",
       "      <td>35</td>\n",
       "    </tr>\n",
       "    <tr>\n",
       "      <th>3</th>\n",
       "      <td>term</td>\n",
       "      <td>0.168728</td>\n",
       "      <td>2</td>\n",
       "    </tr>\n",
       "    <tr>\n",
       "      <th>26</th>\n",
       "      <td>fico_range_high</td>\n",
       "      <td>0.121047</td>\n",
       "      <td>39</td>\n",
       "    </tr>\n",
       "    <tr>\n",
       "      <th>25</th>\n",
       "      <td>verification_status</td>\n",
       "      <td>0.075441</td>\n",
       "      <td>2</td>\n",
       "    </tr>\n",
       "    <tr>\n",
       "      <th>4</th>\n",
       "      <td>loan_amnt</td>\n",
       "      <td>0.071820</td>\n",
       "      <td>1567</td>\n",
       "    </tr>\n",
       "    <tr>\n",
       "      <th>24</th>\n",
       "      <td>mort_acc</td>\n",
       "      <td>0.069521</td>\n",
       "      <td>42</td>\n",
       "    </tr>\n",
       "    <tr>\n",
       "      <th>5</th>\n",
       "      <td>dti</td>\n",
       "      <td>0.064262</td>\n",
       "      <td>9289</td>\n",
       "    </tr>\n",
       "    <tr>\n",
       "      <th>6</th>\n",
       "      <td>revol_util</td>\n",
       "      <td>0.049615</td>\n",
       "      <td>1406</td>\n",
       "    </tr>\n",
       "    <tr>\n",
       "      <th>23</th>\n",
       "      <td>home_ownership</td>\n",
       "      <td>0.045327</td>\n",
       "      <td>6</td>\n",
       "    </tr>\n",
       "    <tr>\n",
       "      <th>7</th>\n",
       "      <td>issue_year</td>\n",
       "      <td>0.042382</td>\n",
       "      <td>14</td>\n",
       "    </tr>\n",
       "    <tr>\n",
       "      <th>22</th>\n",
       "      <td>credit_hist</td>\n",
       "      <td>0.036996</td>\n",
       "      <td>2842</td>\n",
       "    </tr>\n",
       "    <tr>\n",
       "      <th>21</th>\n",
       "      <td>emp_length</td>\n",
       "      <td>0.033655</td>\n",
       "      <td>11</td>\n",
       "    </tr>\n",
       "    <tr>\n",
       "      <th>8</th>\n",
       "      <td>pub_rec_bankruptcies</td>\n",
       "      <td>0.028362</td>\n",
       "      <td>2</td>\n",
       "    </tr>\n",
       "    <tr>\n",
       "      <th>9</th>\n",
       "      <td>application_type</td>\n",
       "      <td>0.025684</td>\n",
       "      <td>2</td>\n",
       "    </tr>\n",
       "    <tr>\n",
       "      <th>20</th>\n",
       "      <td>annual_inc</td>\n",
       "      <td>0.022601</td>\n",
       "      <td>78846</td>\n",
       "    </tr>\n",
       "    <tr>\n",
       "      <th>19</th>\n",
       "      <td>total_acc</td>\n",
       "      <td>0.015586</td>\n",
       "      <td>149</td>\n",
       "    </tr>\n",
       "    <tr>\n",
       "      <th>10</th>\n",
       "      <td>purpose</td>\n",
       "      <td>0.015505</td>\n",
       "      <td>14</td>\n",
       "    </tr>\n",
       "    <tr>\n",
       "      <th>11</th>\n",
       "      <td>delinq_2yrs</td>\n",
       "      <td>0.014361</td>\n",
       "      <td>35</td>\n",
       "    </tr>\n",
       "    <tr>\n",
       "      <th>18</th>\n",
       "      <td>hardship_flag</td>\n",
       "      <td>0.012502</td>\n",
       "      <td>2</td>\n",
       "    </tr>\n",
       "    <tr>\n",
       "      <th>12</th>\n",
       "      <td>Loan_to_annual_inc_ratio</td>\n",
       "      <td>0.010289</td>\n",
       "      <td>203349</td>\n",
       "    </tr>\n",
       "    <tr>\n",
       "      <th>13</th>\n",
       "      <td>initial_list_status</td>\n",
       "      <td>0.007324</td>\n",
       "      <td>2</td>\n",
       "    </tr>\n",
       "    <tr>\n",
       "      <th>14</th>\n",
       "      <td>issue_month</td>\n",
       "      <td>0.004342</td>\n",
       "      <td>12</td>\n",
       "    </tr>\n",
       "    <tr>\n",
       "      <th>17</th>\n",
       "      <td>addr_state</td>\n",
       "      <td>0.004098</td>\n",
       "      <td>51</td>\n",
       "    </tr>\n",
       "    <tr>\n",
       "      <th>15</th>\n",
       "      <td>chargeoff_within_12_mths</td>\n",
       "      <td>0.004061</td>\n",
       "      <td>11</td>\n",
       "    </tr>\n",
       "    <tr>\n",
       "      <th>16</th>\n",
       "      <td>delinq_amnt</td>\n",
       "      <td>0.002422</td>\n",
       "      <td>2388</td>\n",
       "    </tr>\n",
       "  </tbody>\n",
       "</table>\n",
       "</div>"
      ],
      "text/plain": [
       "                       index  correlation_with_target  unique_values\n",
       "0                loan_status                 1.000000              2\n",
       "1       debt_settlement_flag                 0.342700              2\n",
       "2                  sub_grade                 0.257733             35\n",
       "3                       term                 0.168728              2\n",
       "26           fico_range_high                 0.121047             39\n",
       "25       verification_status                 0.075441              2\n",
       "4                  loan_amnt                 0.071820           1567\n",
       "24                  mort_acc                 0.069521             42\n",
       "5                        dti                 0.064262           9289\n",
       "6                 revol_util                 0.049615           1406\n",
       "23            home_ownership                 0.045327              6\n",
       "7                 issue_year                 0.042382             14\n",
       "22               credit_hist                 0.036996           2842\n",
       "21                emp_length                 0.033655             11\n",
       "8       pub_rec_bankruptcies                 0.028362              2\n",
       "9           application_type                 0.025684              2\n",
       "20                annual_inc                 0.022601          78846\n",
       "19                 total_acc                 0.015586            149\n",
       "10                   purpose                 0.015505             14\n",
       "11               delinq_2yrs                 0.014361             35\n",
       "18             hardship_flag                 0.012502              2\n",
       "12  Loan_to_annual_inc_ratio                 0.010289         203349\n",
       "13       initial_list_status                 0.007324              2\n",
       "14               issue_month                 0.004342             12\n",
       "17                addr_state                 0.004098             51\n",
       "15  chargeoff_within_12_mths                 0.004061             11\n",
       "16               delinq_amnt                 0.002422           2388"
      ]
     },
     "execution_count": 79,
     "metadata": {},
     "output_type": "execute_result"
    }
   ],
   "source": [
    "#Create a table for checking the correlation with target variable.\n",
    "corr_with_target = df_new.corrwith(df_new.loan_status).sort_values(ascending = False).abs().to_frame('correlation_with_target').reset_index().head(30)\n",
    "unique_values = df_new.nunique().to_frame('unique_values').reset_index()\n",
    "corr_with_unique = pd.merge(corr_with_target, unique_values, on = 'index', how = 'inner')\n",
    "corr_with_unique.sort_values(\"correlation_with_target\",ascending=False)"
   ]
  },
  {
   "cell_type": "code",
   "execution_count": 80,
   "metadata": {
    "id": "H3vhDUUDeLfp"
   },
   "outputs": [],
   "source": [
    "#Remove the low correlated features.\n",
    "Unnecessary_Featres = ['addr_state','Loan_to_annual_inc_ratio','issue_year','total_acc','purpose','delinq_2yrs','hardship_flag','initial_list_status','issue_month','chargeoff_within_12_mths','delinq_amnt']\n",
    "df_new.drop(Unnecessary_Featres, axis=1, inplace=True)"
   ]
  },
  {
   "cell_type": "code",
   "execution_count": 81,
   "metadata": {},
   "outputs": [
    {
     "data": {
      "text/plain": [
       "(1848821, 16)"
      ]
     },
     "execution_count": 81,
     "metadata": {},
     "output_type": "execute_result"
    }
   ],
   "source": [
    "#Check the shape.\n",
    "df_new.shape"
   ]
  },
  {
   "cell_type": "code",
   "execution_count": 82,
   "metadata": {
    "id": "TkjjQwbJg9Wl"
   },
   "outputs": [],
   "source": [
    "# Create a function for finanl dataset visualization.\n",
    "def final_feature_plot(df, col_name, isContinuous):\n",
    "    \"\"\"\n",
    "    Visualize a variable with and without faceting on the loan status.\n",
    "    - col_name is the variable name in the dataframe\n",
    "    - full_name is the full variable name\n",
    "    - continuous is True if the variable is continuous, False otherwise\n",
    "    \"\"\"\n",
    "    f, (ax1, ax2) = plt.subplots(nrows=1, ncols=2, figsize=(12,3), dpi=90)\n",
    "    \n",
    "    # Plot without loan status\n",
    "    if isContinuous:\n",
    "        sns.distplot(df.loc[df[col_name].notnull(), col_name], kde=False, ax=ax1)\n",
    "    else:\n",
    "        sns.countplot(df[col_name], order=sorted(df[col_name].unique()), color='#5975A4', saturation=1, ax=ax1)\n",
    "    ax1.set_xlabel(col_name)\n",
    "    ax1.set_ylabel('Count')\n",
    "    ax1.set_title(col_name)\n",
    "    plt.xticks(rotation = 90)\n",
    "\n",
    "    # Plot with loan status\n",
    "    if isContinuous:\n",
    "        sns.boxplot(y=col_name, x='loan_status', data=df, ax=ax2)\n",
    "        ax2.set_ylabel('')\n",
    "        ax2.set_title(col_name + ' by Loan Status')\n",
    "    else:\n",
    "        data = df.groupby(col_name)['loan_status'].value_counts(normalize=True).to_frame('proportion').reset_index()        \n",
    "        sns.barplot(x = col_name, y = 'proportion', hue= \"loan_status\", data = data, saturation=1, ax=ax2)\n",
    "        ax2.set_ylabel('Loan fraction')\n",
    "        ax2.set_title('Loan status')\n",
    "        plt.xticks(rotation = 90)\n",
    "    ax2.set_xlabel(col_name)\n",
    "    \n",
    "    plt.tight_layout()"
   ]
  },
  {
   "cell_type": "code",
   "execution_count": 83,
   "metadata": {
    "colab": {
     "base_uri": "https://localhost:8080/",
     "height": 278
    },
    "id": "tbkbkNvLTeTa",
    "outputId": "c746ce21-a087-438d-fd81-4ddf620fcd2c"
   },
   "outputs": [
    {
     "data": {
      "image/png": "[encoded data removed]",
      "text/plain": [
       "<Figure size 1080x270 with 2 Axes>"
      ]
     },
     "metadata": {
      "needs_background": "light"
     },
     "output_type": "display_data"
    }
   ],
   "source": [
    "#Plot the Term\n",
    "final_feature_plot(df_new,'term',False)"
   ]
  },
  {
   "cell_type": "code",
   "execution_count": 84,
   "metadata": {
    "colab": {
     "base_uri": "https://localhost:8080/",
     "height": 278
    },
    "id": "3Etyi6clinUE",
    "outputId": "96ead3ef-c89a-44fd-d477-e35c799f57ff"
   },
   "outputs": [
    {
     "data": {
      "image/png": "[encoded data removed]",
      "text/plain": [
       "<Figure size 1080x270 with 2 Axes>"
      ]
     },
     "metadata": {
      "needs_background": "light"
     },
     "output_type": "display_data"
    }
   ],
   "source": [
    "final_feature_plot(df_new,'debt_settlement_flag',False)"
   ]
  },
  {
   "cell_type": "code",
   "execution_count": 85,
   "metadata": {
    "colab": {
     "base_uri": "https://localhost:8080/",
     "height": 278
    },
    "id": "3HsquFCziwJX",
    "outputId": "4e43fca1-8c69-45bf-d0e8-82eae0a6318e"
   },
   "outputs": [
    {
     "data": {
      "image/png": "[encoded data removed]",
      "text/plain": [
       "<Figure size 1080x270 with 2 Axes>"
      ]
     },
     "metadata": {
      "needs_background": "light"
     },
     "output_type": "display_data"
    }
   ],
   "source": [
    "#Plot Sub-grade.\n",
    "final_feature_plot(df_new,'sub_grade',False)"
   ]
  },
  {
   "cell_type": "code",
   "execution_count": 86,
   "metadata": {
    "colab": {
     "base_uri": "https://localhost:8080/",
     "height": 278
    },
    "id": "FWAEMgr9i_Z7",
    "outputId": "2e700239-96ae-4e44-a6bd-63147865a9f2"
   },
   "outputs": [
    {
     "data": {
      "image/png": "[encoded data removed]",
      "text/plain": [
       "<Figure size 1080x270 with 2 Axes>"
      ]
     },
     "metadata": {
      "needs_background": "light"
     },
     "output_type": "display_data"
    }
   ],
   "source": [
    "#Plot fico_range_high\n",
    "final_feature_plot(df_new,'fico_range_high',True)"
   ]
  },
  {
   "cell_type": "code",
   "execution_count": 87,
   "metadata": {
    "colab": {
     "base_uri": "https://localhost:8080/",
     "height": 278
    },
    "id": "2GemNa-TjAJT",
    "outputId": "d9a03736-61a9-452e-eeb5-b1c84dc33dc0"
   },
   "outputs": [
    {
     "data": {
      "image/png": "[encoded data removed]",
      "text/plain": [
       "<Figure size 1080x270 with 2 Axes>"
      ]
     },
     "metadata": {
      "needs_background": "light"
     },
     "output_type": "display_data"
    }
   ],
   "source": [
    "#Plot verification_status\n",
    "final_feature_plot(df_new,'verification_status',False)"
   ]
  },
  {
   "cell_type": "code",
   "execution_count": 88,
   "metadata": {
    "colab": {
     "base_uri": "https://localhost:8080/",
     "height": 278
    },
    "id": "M2un13h-jAEq",
    "outputId": "86420ec4-d038-4c5c-efbe-8ce3701ef7f9"
   },
   "outputs": [
    {
     "data": {
      "image/png": "[encoded data removed]",
      "text/plain": [
       "<Figure size 1080x270 with 2 Axes>"
      ]
     },
     "metadata": {
      "needs_background": "light"
     },
     "output_type": "display_data"
    }
   ],
   "source": [
    "#Plot loan_amnt\n",
    "final_feature_plot(df_new,'loan_amnt',True)"
   ]
  },
  {
   "cell_type": "code",
   "execution_count": 89,
   "metadata": {
    "colab": {
     "base_uri": "https://localhost:8080/",
     "height": 278
    },
    "id": "f2AfgZ5Ii__l",
    "outputId": "6b18dc36-0139-4453-a8f8-7c6982595de9"
   },
   "outputs": [
    {
     "data": {
      "image/png": "[encoded data removed]",
      "text/plain": [
       "<Figure size 1080x270 with 2 Axes>"
      ]
     },
     "metadata": {
      "needs_background": "light"
     },
     "output_type": "display_data"
    }
   ],
   "source": [
    "#Plot mort_acc\n",
    "final_feature_plot(df_new,'mort_acc',False)"
   ]
  },
  {
   "cell_type": "code",
   "execution_count": 90,
   "metadata": {
    "colab": {
     "base_uri": "https://localhost:8080/",
     "height": 278
    },
    "id": "A2RgjdwRi_SF",
    "outputId": "693e9200-ac05-4a2a-b3d2-d2ee7ad3edb8"
   },
   "outputs": [
    {
     "data": {
      "image/png": "[encoded data removed]",
      "text/plain": [
       "<Figure size 1080x270 with 2 Axes>"
      ]
     },
     "metadata": {
      "needs_background": "light"
     },
     "output_type": "display_data"
    }
   ],
   "source": [
    "#Plot dti\n",
    "final_feature_plot(df_new,'dti',True)"
   ]
  },
  {
   "cell_type": "code",
   "execution_count": 91,
   "metadata": {
    "colab": {
     "base_uri": "https://localhost:8080/",
     "height": 278
    },
    "id": "BOtOcIgci_Os",
    "outputId": "9365fc5e-f9ca-420b-95c6-0965a858ced7"
   },
   "outputs": [
    {
     "data": {
      "image/png": "[encoded data removed]",
      "text/plain": [
       "<Figure size 1080x270 with 2 Axes>"
      ]
     },
     "metadata": {
      "needs_background": "light"
     },
     "output_type": "display_data"
    }
   ],
   "source": [
    "#Plot revol_util\n",
    "final_feature_plot(df_new,'revol_util',True)"
   ]
  },
  {
   "cell_type": "code",
   "execution_count": 92,
   "metadata": {
    "colab": {
     "base_uri": "https://localhost:8080/",
     "height": 278
    },
    "id": "Um29-IyUj5Lz",
    "outputId": "7b33019a-c008-4950-8aec-1918c44d539f"
   },
   "outputs": [
    {
     "data": {
      "image/png": "[encoded data removed]",
      "text/plain": [
       "<Figure size 1080x270 with 2 Axes>"
      ]
     },
     "metadata": {
      "needs_background": "light"
     },
     "output_type": "display_data"
    }
   ],
   "source": [
    "#Plot emp_length\n",
    "final_feature_plot(df_new,'emp_length',False)"
   ]
  },
  {
   "cell_type": "code",
   "execution_count": 93,
   "metadata": {
    "colab": {
     "base_uri": "https://localhost:8080/",
     "height": 278
    },
    "id": "pR6szL1bj5PR",
    "outputId": "9181e255-c0ef-4efd-e79a-e13f4ee09221"
   },
   "outputs": [
    {
     "data": {
      "image/png": "[encoded data removed]",
      "text/plain": [
       "<Figure size 1080x270 with 2 Axes>"
      ]
     },
     "metadata": {
      "needs_background": "light"
     },
     "output_type": "display_data"
    }
   ],
   "source": [
    "#Plot pub_rec_bankruptcies\n",
    "final_feature_plot(df_new,'pub_rec_bankruptcies',False)"
   ]
  },
  {
   "cell_type": "code",
   "execution_count": 94,
   "metadata": {
    "colab": {
     "base_uri": "https://localhost:8080/",
     "height": 278
    },
    "id": "MqGVWhmVj5UC",
    "outputId": "5cd5c10d-9623-431d-ee2e-dff9b213e134"
   },
   "outputs": [
    {
     "data": {
      "image/png": "[encoded data removed]",
      "text/plain": [
       "<Figure size 1080x270 with 2 Axes>"
      ]
     },
     "metadata": {
      "needs_background": "light"
     },
     "output_type": "display_data"
    }
   ],
   "source": [
    "#Plot annual_inc\n",
    "final_feature_plot(df_new,'annual_inc',True)"
   ]
  },
  {
   "cell_type": "code",
   "execution_count": 95,
   "metadata": {
    "id": "H2Deu9tJtQ90"
   },
   "outputs": [],
   "source": [
    "df_new.to_csv(r'C:\\Users\\mehed\\Google Drive\\Colab Notebooks\\Lending Club Data\\df_final.csv',index=False)"
   ]
  }
 ],
 "metadata": {
  "accelerator": "GPU",
  "colab": {
   "collapsed_sections": [],
   "name": "FinTech Project_Preprocessing_04.09.21",
   "provenance": []
  },
  "kernelspec": {
   "display_name": "Python 3",
   "language": "python",
   "name": "python3"
  },
  "language_info": {
   "codemirror_mode": {
    "name": "ipython",
    "version": 3
   },
   "file_extension": ".py",
   "mimetype": "text/x-python",
   "name": "python",
   "nbconvert_exporter": "python",
   "pygments_lexer": "ipython3",
   "version": "3.8.8"
  }
 },
 "nbformat": 4,
 "nbformat_minor": 1
}
