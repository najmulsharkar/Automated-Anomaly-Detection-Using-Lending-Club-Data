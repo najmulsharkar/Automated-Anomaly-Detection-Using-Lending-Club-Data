{
 "cells": [
  {
   "cell_type": "code",
   "execution_count": 1,
   "id": "aab69f70",
   "metadata": {},
   "outputs": [],
   "source": [
    "#Import necessary libraries\n",
    "import flask\n",
    "from flask import Flask, request, jsonify, render_template\n",
    "import pickle\n",
    "import pandas as pd\n",
    "import numpy as np\n",
    "from sklearn.preprocessing import StandardScaler\n",
    "import lightgbm\n",
    "import dill"
   ]
  },
  {
   "cell_type": "code",
   "execution_count": 2,
   "id": "23e92864",
   "metadata": {},
   "outputs": [],
   "source": [
    "#load models into memory only \n",
    "with open('model_up.pkl', 'rb') as f:\n",
    "    model = dill.load(f)"
   ]
  },
  {
   "cell_type": "code",
   "execution_count": 3,
   "id": "88e024e2",
   "metadata": {},
   "outputs": [],
   "source": [
    "#load scaler into memory only\n",
    "with open('scaler_up.pkl', 'rb') as f:\n",
    "    scaler = dill.load(f)"
   ]
  },
  {
   "cell_type": "code",
   "execution_count": 4,
   "id": "f081a2b2",
   "metadata": {},
   "outputs": [],
   "source": [
    "# Craete some dictionery to change the categorical value into int.\n",
    "sub_grade_to_num={'A1':0,'A2':1,'A3':2,'A4':3,'A5':4,'B1':5,'B2':6,'B3':7,'B4':8,'B5':9,'C1':10,'C2':11,'C3':12,'C4':13,'C5':14,'D1':15,'D2':16,'D3':17,'D4':18,'D5':19,'E1':20,'E2':21,'E3':22,'E4':23,'E5':24,'F1':25,'F2':26,'F3':27,'F4':28,'F5':29,'G1':30,'G2':31,'G3':32,'G4':33,'G5':34}\n",
    "home_ownership_to_num = {'OWN': 5,'MORTGAGE': 4,'RENT': 3,'ANY': 2,'OTHER': 1, 'NONE':0 }\n",
    "verification_status_num ={'Verified':0,'Not Verified':1}\n",
    "application_type_to_num={'Individual':0,'Joint':1}\n",
    "debt_settlement_flag_to_num = {'No':0,'Yes':1}\n",
    "pub_rec_bankruptcies_to_Num = {'No':0,'Yes':1}\n",
    "#addr_state_to_num = {'AK':0,'AL':1,'AR':2,'AZ':3,'CA':4,'CO':5,'CT':6,'DC':7,'DE':8,'FL':9,'GA':10,'HI':11,'IA':12,'ID':13,'IL':14,'IN':15,'KS':16,'KY':17,'LA':18,'MA':19,'MD':20,'ME':21,'MI':22,'MN':23,'MO':24,'MS':25,'MT':26,'NC':27,'ND':28,'NE':29,'NH':30,'NJ':31,'NM':32,'NV':33,'NY':34,'OH':35,'OK':36,'OR':37,'PA':38,'RI':39,'SC':40,'SD':41,'TN':42,'TX':43,'UT':44,'VA':45,'VT':46,'WA':47,'WI':48,'WV':49,'WY':50}\n",
    "emp_length_to_num = {'Less than 1 Year':0,'1 Year':1,'2 Years':2,'3 Years':3,'4 Years':4,'5 Years':5,'6 Years':6,'7 Years':7,'8 Years':8,'9 Years':9,'10+ Years':10,}"
   ]
  },
  {
   "cell_type": "code",
   "execution_count": 5,
   "id": "9d6dc963",
   "metadata": {},
   "outputs": [],
   "source": [
    "#Define app for website.\n",
    "app = flask.Flask(__name__, template_folder='templates')"
   ]
  },
  {
   "cell_type": "code",
   "execution_count": 6,
   "id": "6f12dc39",
   "metadata": {},
   "outputs": [],
   "source": [
    "#Route the index page of website.\n",
    "@app.route('/')\n",
    "def main():\n",
    "    return (flask.render_template('index.html'))"
   ]
  },
  {
   "cell_type": "code",
   "execution_count": 7,
   "id": "4f47a94b",
   "metadata": {},
   "outputs": [],
   "source": [
    "#Route the prediction page and define the parameter..\n",
    "@app.route(\"/prediction\", methods=['GET', 'POST'])\n",
    "def prediction():\n",
    "    \n",
    "    if flask.request.method == 'GET':\n",
    "        return (flask.render_template('prediction.html'))\n",
    "    \n",
    "    if flask.request.method =='POST':\n",
    "        \n",
    "        #get input from the website page.\n",
    "\n",
    "        #fico score as integer\n",
    "        fico_range_high = int(flask.request.form['fico_range_high'])\n",
    "        #loan amount as integer\n",
    "        loan_amnt = float(flask.request.form['loan_amnt'])\n",
    "        #term as integer: 36 or 60\n",
    "        term = int(flask.request.form['term'])\n",
    "        #debt to income as float\n",
    "        dti = float(flask.request.form['dti'])\n",
    "        #home ownership as string\n",
    "        home_ownership = flask.request.form['home_ownership']\n",
    "        #number or mortgage accounts as integer\n",
    "        mort_acc = int(flask.request.form['mort_acc'])\n",
    "        #annual income as float\n",
    "        annual_inc = float(flask.request.form['annual_inc'])\n",
    "        #verification status as 0, 1\n",
    "        verification_status = flask.request.form['verification_status']\n",
    "        #revolving utilization as float\n",
    "        revol_util = float(flask.request.form['revol_util'])\n",
    "        #Sug-Grade as string\n",
    "        sub_grade = flask.request.form['sub_grade']\n",
    "        #Employment Length as string\n",
    "        emp_length = flask.request.form['emp_length']\n",
    "        #Application Type as Individual and Joint\n",
    "        application_type = flask.request.form['application_type']\n",
    "        #Previous Bankruptcies as Yes and No\n",
    "        pub_rec_bankruptcies = flask.request.form['pub_rec_bankruptcies']\n",
    "        #Previous Debt Settlement flag as Yes and No\n",
    "        debt_settlement_flag = flask.request.form['debt_settlement_flag']\n",
    "        #time since first credit line in months\n",
    "        er_credit_open_date = pd.to_datetime(flask.request.form['er_credit_open_date'])\n",
    "        #Define issue date as today.\n",
    "        issue_d = pd.to_datetime(\"today\")\n",
    "        #number of days of credit history from the earliest credit line open date till today \n",
    "        credit_hist = issue_d - er_credit_open_date\n",
    "        \n",
    "        #Save the input as dataset.\n",
    "        temp = pd.DataFrame(index=[1])\n",
    "\n",
    "        temp['fico_range_high']=fico_range_high\n",
    "        temp['loan_amnt']=loan_amnt\n",
    "        temp['term']=term\n",
    "        temp['dti']=dti\n",
    "        temp['home_ownership']=home_ownership_to_num[home_ownership]\n",
    "        temp['mort_acc']=mort_acc\n",
    "        temp['annual_inc'] = annual_inc\n",
    "        temp['verification_status']= verification_status_num[verification_status]\n",
    "        temp['revol_util']=revol_util\n",
    "        temp['sub_grade']=sub_grade_to_num[sub_grade]\n",
    "        temp['emp_length'] = emp_length_to_num[emp_length]\n",
    "        temp['application_type']=application_type_to_num[application_type]\n",
    "        temp['pub_rec_bankruptcies']=pub_rec_bankruptcies_to_Num[pub_rec_bankruptcies]\n",
    "        temp['debt_settlement_flag']=debt_settlement_flag_to_num[debt_settlement_flag]\n",
    "        temp['credit_hist'] = credit_hist.days\n",
    "\n",
    "\n",
    "        #create output for result. \n",
    "        output_dict= dict()\n",
    "        output_dict['Annual Income'] = annual_inc\n",
    "        output_dict['FICO High Score'] = fico_range_high\n",
    "        output_dict['Loan Amount']=loan_amnt\n",
    "        output_dict['Term']=term\n",
    "\n",
    "        #deep copy in data \n",
    "        data = temp.copy()\n",
    "        data_scaled = scaler.transform(data)\n",
    "        \n",
    "        #make prediction\n",
    "        pred = model.predict(data_scaled)\n",
    "#         pred_class = np.argmax(pred)\n",
    "#         apr_prob = pred[0]*100\n",
    "#         den_proba = pred[1]*100\n",
    "        \n",
    "        #Result of the prediction\n",
    "        if pred ==1:\n",
    "            res = 'Loan Denied! Customer may default.'\n",
    "        else:\n",
    "            res = 'Loan Approved!'\n",
    "\n",
    "        #render form again and add prediction\n",
    "        return flask.render_template('prediction.html',original_input=output_dict,result=res)"
   ]
  },
  {
   "cell_type": "code",
   "execution_count": 8,
   "id": "0a6bd986",
   "metadata": {},
   "outputs": [
    {
     "name": "stdout",
     "output_type": "stream",
     "text": [
      " * Serving Flask app \"__main__\" (lazy loading)\n",
      " * Environment: production\n",
      "   WARNING: This is a development server. Do not use it in a production deployment.\n",
      "   Use a production WSGI server instead.\n",
      " * Debug mode: on\n"
     ]
    },
    {
     "name": "stderr",
     "output_type": "stream",
     "text": [
      " * Restarting with windowsapi reloader\n"
     ]
    },
    {
     "ename": "SystemExit",
     "evalue": "1",
     "output_type": "error",
     "traceback": [
      "An exception has occurred, use %tb to see the full traceback.\n",
      "\u001b[1;31mSystemExit\u001b[0m\u001b[1;31m:\u001b[0m 1\n"
     ]
    },
    {
     "name": "stderr",
     "output_type": "stream",
     "text": [
      "E:\\anaconda3\\lib\\site-packages\\IPython\\core\\interactiveshell.py:3445: UserWarning: To exit: use 'exit', 'quit', or Ctrl-D.\n",
      "  warn(\"To exit: use 'exit', 'quit', or Ctrl-D.\", stacklevel=1)\n"
     ]
    }
   ],
   "source": [
    "#run the app.\n",
    "if __name__ == '__main__':\n",
    "    app.run(debug=True)"
   ]
  },
  {
   "cell_type": "code",
   "execution_count": null,
   "id": "18b40819",
   "metadata": {},
   "outputs": [],
   "source": []
  }
 ],
 "metadata": {
  "kernelspec": {
   "display_name": "Python 3",
   "language": "python",
   "name": "python3"
  },
  "language_info": {
   "codemirror_mode": {
    "name": "ipython",
    "version": 3
   },
   "file_extension": ".py",
   "mimetype": "text/x-python",
   "name": "python",
   "nbconvert_exporter": "python",
   "pygments_lexer": "ipython3",
   "version": "3.8.8"
  }
 },
 "nbformat": 4,
 "nbformat_minor": 5
}
